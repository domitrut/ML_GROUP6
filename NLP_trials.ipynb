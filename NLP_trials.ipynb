{
 "cells": [
  {
   "cell_type": "markdown",
   "id": "dfe1c733-5e23-40ac-9145-8f079603b7af",
   "metadata": {},
   "source": [
    "# NLP - Kickstarter\n",
    "From the point of view of investors, the risk of losing one's capital as a result of a failed investment is high for them.\n",
    "Kickstarter's project have few risky characteristics for backers who want to invest in successful projects: \n",
    "- Items are frequently new and not evaluated in a mature market before.\n",
    "- Creators may be unskilled and lack the necessary abilities to develop and launch products.\n",
    "\n",
    "As a result, backers appears to be sort of Venture Capitalist. The only difference is that in this case, instead of equity, backers pledge money in exchange for a (usually tangible) reward. \n",
    "\n",
    "Therefore, taking the perspective of backers, we would only put money into initiatives that have the best chance of succeeding. Given the vast number of projects on Kickstarter, there would be plenty of high-probability-of-success campaigns to pick from.\n",
    "\n",
    "With NLP, we will try to fit a model and evaluate its **precision**, since this appears to be the most relevant metrics. Out of the projects that the model predicted would be successes, how many turned out to be actual successes?"
   ]
  },
  {
   "cell_type": "code",
   "execution_count": 1,
   "id": "148ee652-d51d-4108-8241-2e6e76483eb8",
   "metadata": {},
   "outputs": [],
   "source": [
    "import warnings\n",
    "warnings.filterwarnings(\"ignore\", category=DeprecationWarning)\n",
    "\n",
    "import numpy as np\n",
    "import pandas as pd\n",
    "%matplotlib inline\n",
    "import matplotlib.pyplot as plt\n",
    "import seaborn as sns; sns.set()"
   ]
  },
  {
   "cell_type": "raw",
   "id": "7a323f6a-90c0-4285-96d7-58b7c62c988a",
   "metadata": {},
   "source": [
    "# The following need to be rerun only if you don't have the packages\n",
    "!conda install nltk --yes\n",
    "! conda install -c conda-forge spacy --yes\n",
    "! python -m spacy download en_core_web_sm\n",
    "! pip install wordcloud\n",
    "! conda install -c anaconda gensim --yes\n",
    "! conda install -c conda-forge wordcloud --yes"
   ]
  },
  {
   "cell_type": "code",
   "execution_count": 2,
   "id": "6ded97b7-4a59-47a0-89a7-935d0f713d72",
   "metadata": {},
   "outputs": [
    {
     "data": {
      "text/plain": [
       "<AxesSubplot:>"
      ]
     },
     "execution_count": 2,
     "metadata": {},
     "output_type": "execute_result"
    },
    {
     "data": {
      "image/png": "[encoded data removed]",
      "text/plain": [
       "<Figure size 432x288 with 1 Axes>"
      ]
     },
     "metadata": {},
     "output_type": "display_data"
    }
   ],
   "source": [
    "# Create NLP dataset\n",
    "dataset = pd.read_csv('CLeaned_Kickstarter.csv')\n",
    "df_nlp = dataset[['project_id', 'state', 'slug', 'blurb']]\n",
    "df_nlp['state'].value_counts().plot(kind='bar')\n",
    "\n",
    "#df_nlp = df[df.state != 'live']\n",
    "# slug is equal to name, should we do an analysis for the blurb and another for the slug? \n",
    "# E.g. blurb for project 16327 is Goal: Raise $5000 by December 31st. NLP here should be problematic"
   ]
  },
  {
   "cell_type": "code",
   "execution_count": 3,
   "id": "1875db2b-2160-4fca-a2b8-69206d9896a5",
   "metadata": {},
   "outputs": [
    {
     "data": {
      "text/plain": [
       "<AxesSubplot:>"
      ]
     },
     "execution_count": 3,
     "metadata": {},
     "output_type": "execute_result"
    },
    {
     "data": {
      "image/png": "[encoded data removed]",
      "text/plain": [
       "<Figure size 432x288 with 1 Axes>"
      ]
     },
     "metadata": {},
     "output_type": "display_data"
    }
   ],
   "source": [
    "df_nlp = df_nlp[df_nlp.state != 'live']\n",
    "df_nlp['state'].value_counts().plot(kind='bar')\n",
    "# Has more sense to drop also canceled and suspended?"
   ]
  },
  {
   "cell_type": "code",
   "execution_count": 4,
   "id": "eb2f972c-5a08-41d7-a1da-c5c1c8c12948",
   "metadata": {},
   "outputs": [
    {
     "data": {
      "text/html": [
       "<div>\n",
       "<style scoped>\n",
       "    .dataframe tbody tr th:only-of-type {\n",
       "        vertical-align: middle;\n",
       "    }\n",
       "\n",
       "    .dataframe tbody tr th {\n",
       "        vertical-align: top;\n",
       "    }\n",
       "\n",
       "    .dataframe thead th {\n",
       "        text-align: right;\n",
       "    }\n",
       "</style>\n",
       "<table border=\"1\" class=\"dataframe\">\n",
       "  <thead>\n",
       "    <tr style=\"text-align: right;\">\n",
       "      <th></th>\n",
       "      <th>project_id</th>\n",
       "      <th>state</th>\n",
       "      <th>slug</th>\n",
       "      <th>blurb</th>\n",
       "    </tr>\n",
       "  </thead>\n",
       "  <tbody>\n",
       "    <tr>\n",
       "      <th>0</th>\n",
       "      <td>3251221</td>\n",
       "      <td>1</td>\n",
       "      <td>believing-heart-tarot-deck</td>\n",
       "      <td>Believing Heart Tarot is a one of a kind addit...</td>\n",
       "    </tr>\n",
       "    <tr>\n",
       "      <th>1</th>\n",
       "      <td>860485</td>\n",
       "      <td>0</td>\n",
       "      <td>zone-7-street-arts-initiative</td>\n",
       "      <td>Be a part of Street Art Magic and have a hand ...</td>\n",
       "    </tr>\n",
       "    <tr>\n",
       "      <th>2</th>\n",
       "      <td>1102377</td>\n",
       "      <td>1</td>\n",
       "      <td>loving-becca-journey-of-child-loss</td>\n",
       "      <td>My writing changed after my daughter was kille...</td>\n",
       "    </tr>\n",
       "    <tr>\n",
       "      <th>3</th>\n",
       "      <td>2531031</td>\n",
       "      <td>0</td>\n",
       "      <td>the-sweet-botanist-syrup-co</td>\n",
       "      <td>The Sweet Botanist's natural syrups are made s...</td>\n",
       "    </tr>\n",
       "    <tr>\n",
       "      <th>4</th>\n",
       "      <td>95060</td>\n",
       "      <td>1</td>\n",
       "      <td>el-capitan-film-restoration</td>\n",
       "      <td>The digital restoration of the classic 1968 Ro...</td>\n",
       "    </tr>\n",
       "    <tr>\n",
       "      <th>...</th>\n",
       "      <td>...</td>\n",
       "      <td>...</td>\n",
       "      <td>...</td>\n",
       "      <td>...</td>\n",
       "    </tr>\n",
       "    <tr>\n",
       "      <th>205691</th>\n",
       "      <td>16327</td>\n",
       "      <td>1</td>\n",
       "      <td>new-media-elective-at-june-jordan-school-for-e...</td>\n",
       "      <td>Goal: Raise $5000 by December 31st to provide ...</td>\n",
       "    </tr>\n",
       "    <tr>\n",
       "      <th>205692</th>\n",
       "      <td>2428607</td>\n",
       "      <td>1</td>\n",
       "      <td>my-first-album-8</td>\n",
       "      <td>Since I was 4 years old my dream has been to b...</td>\n",
       "    </tr>\n",
       "    <tr>\n",
       "      <th>205693</th>\n",
       "      <td>71699</td>\n",
       "      <td>1</td>\n",
       "      <td>story-forge-brainstorming-cards-for-storytellers</td>\n",
       "      <td>The ultimate tool for quickly and easily brain...</td>\n",
       "    </tr>\n",
       "    <tr>\n",
       "      <th>205694</th>\n",
       "      <td>2426288</td>\n",
       "      <td>1</td>\n",
       "      <td>scythe-a-realistic-slasher-film</td>\n",
       "      <td>A psychological slasher thriller WITHOUT all t...</td>\n",
       "    </tr>\n",
       "    <tr>\n",
       "      <th>205695</th>\n",
       "      <td>218329</td>\n",
       "      <td>1</td>\n",
       "      <td>from-whiskey-to-diamonds-megan-marquettes-debu...</td>\n",
       "      <td>Megan Marquette will capture your attention an...</td>\n",
       "    </tr>\n",
       "  </tbody>\n",
       "</table>\n",
       "<p>198248 rows × 4 columns</p>\n",
       "</div>"
      ],
      "text/plain": [
       "        project_id state                                               slug  \\\n",
       "0          3251221     1                         believing-heart-tarot-deck   \n",
       "1           860485     0                      zone-7-street-arts-initiative   \n",
       "2          1102377     1                 loving-becca-journey-of-child-loss   \n",
       "3          2531031     0                        the-sweet-botanist-syrup-co   \n",
       "4            95060     1                        el-capitan-film-restoration   \n",
       "...            ...   ...                                                ...   \n",
       "205691       16327     1  new-media-elective-at-june-jordan-school-for-e...   \n",
       "205692     2428607     1                                   my-first-album-8   \n",
       "205693       71699     1   story-forge-brainstorming-cards-for-storytellers   \n",
       "205694     2426288     1                    scythe-a-realistic-slasher-film   \n",
       "205695      218329     1  from-whiskey-to-diamonds-megan-marquettes-debu...   \n",
       "\n",
       "                                                    blurb  \n",
       "0       Believing Heart Tarot is a one of a kind addit...  \n",
       "1       Be a part of Street Art Magic and have a hand ...  \n",
       "2       My writing changed after my daughter was kille...  \n",
       "3       The Sweet Botanist's natural syrups are made s...  \n",
       "4       The digital restoration of the classic 1968 Ro...  \n",
       "...                                                   ...  \n",
       "205691  Goal: Raise $5000 by December 31st to provide ...  \n",
       "205692  Since I was 4 years old my dream has been to b...  \n",
       "205693  The ultimate tool for quickly and easily brain...  \n",
       "205694  A psychological slasher thriller WITHOUT all t...  \n",
       "205695  Megan Marquette will capture your attention an...  \n",
       "\n",
       "[198248 rows x 4 columns]"
      ]
     },
     "execution_count": 4,
     "metadata": {},
     "output_type": "execute_result"
    }
   ],
   "source": [
    "# Check and remove missing values\n",
    "# df_nlp.isna().sum() # there was 10 null blurbs\n",
    "df_nlp=df_nlp.dropna()\n",
    "# 1 success, 0 failure\n",
    "df_nlp[\"state\"] = df_nlp[\"state\"].replace({'failed' : 0, 'successful': 1})\n",
    "df_nlp"
   ]
  },
  {
   "cell_type": "code",
   "execution_count": 5,
   "id": "7edbbab1-8c91-4406-86c8-31ab96922429",
   "metadata": {},
   "outputs": [
    {
     "data": {
      "text/plain": [
       "<AxesSubplot:>"
      ]
     },
     "execution_count": 5,
     "metadata": {},
     "output_type": "execute_result"
    },
    {
     "data": {
      "image/png": "[encoded data removed]",
      "text/plain": [
       "<Figure size 432x288 with 1 Axes>"
      ]
     },
     "metadata": {},
     "output_type": "display_data"
    }
   ],
   "source": [
    "#Name: Word length\n",
    "df_nlp['slug_len'] = df_nlp['slug'].str.split(\"-\").str.len()\n",
    "\n",
    "#Blurb: Word length\n",
    "df_nlp['blurb_len'] = df_nlp['blurb'].str.split().str.len()\n",
    "\n",
    "# Histogram - think about doing a table \n",
    "df_nlp['blurb_len'].value_counts().plot(kind='bar')"
   ]
  },
  {
   "cell_type": "code",
   "execution_count": 6,
   "id": "b299f6e6-4eb1-4280-95d8-ea0dedd55359",
   "metadata": {},
   "outputs": [
    {
     "data": {
      "text/plain": [
       "<AxesSubplot:>"
      ]
     },
     "execution_count": 6,
     "metadata": {},
     "output_type": "execute_result"
    },
    {
     "data": {
      "image/png": "[encoded data removed]",
      "text/plain": [
       "<Figure size 432x288 with 1 Axes>"
      ]
     },
     "metadata": {},
     "output_type": "display_data"
    }
   ],
   "source": [
    "df_nlp['slug_len'].value_counts().plot(kind='bar')"
   ]
  },
  {
   "cell_type": "markdown",
   "id": "28ab4d5c-3ad3-4c9a-96a2-a75c06626ed4",
   "metadata": {},
   "source": [
    "### PREPROCESSING\n",
    "- Lowercase - DONE\n",
    "- HTML tags - NOTE PRESENT IN BLURBS\n",
    "- Convert accented characters to ASCII characters, are there? - Not useful, english dictionary usually doesn't have accented words\n",
    "- Removing extra whitespaces - DONE\n",
    "- Removing punctuation and special characters - DONE\n",
    "- Converting number words to numeric form removing numbers - HOW TO DO IT?? 31st\n",
    "- Expansion of the Short form Definitions - DONE\n",
    "\n",
    "- Stemming ?? Porter's algorithm\n",
    "- Lemmatization"
   ]
  },
  {
   "cell_type": "code",
   "execution_count": 7,
   "id": "c42a7536-5391-447a-8d78-9a44d3b83d1a",
   "metadata": {},
   "outputs": [
    {
     "data": {
      "text/html": [
       "<div>\n",
       "<style scoped>\n",
       "    .dataframe tbody tr th:only-of-type {\n",
       "        vertical-align: middle;\n",
       "    }\n",
       "\n",
       "    .dataframe tbody tr th {\n",
       "        vertical-align: top;\n",
       "    }\n",
       "\n",
       "    .dataframe thead th {\n",
       "        text-align: right;\n",
       "    }\n",
       "</style>\n",
       "<table border=\"1\" class=\"dataframe\">\n",
       "  <thead>\n",
       "    <tr style=\"text-align: right;\">\n",
       "      <th></th>\n",
       "      <th>project_id</th>\n",
       "      <th>state</th>\n",
       "      <th>slug</th>\n",
       "      <th>blurb</th>\n",
       "      <th>slug_len</th>\n",
       "      <th>blurb_len</th>\n",
       "    </tr>\n",
       "  </thead>\n",
       "  <tbody>\n",
       "    <tr>\n",
       "      <th>0</th>\n",
       "      <td>3251221</td>\n",
       "      <td>1</td>\n",
       "      <td>believing-heart-tarot-deck</td>\n",
       "      <td>Believing Heart Tarot is a one of a kind addit...</td>\n",
       "      <td>4</td>\n",
       "      <td>25</td>\n",
       "    </tr>\n",
       "    <tr>\n",
       "      <th>1</th>\n",
       "      <td>860485</td>\n",
       "      <td>0</td>\n",
       "      <td>zone-7-street-arts-initiative</td>\n",
       "      <td>Be a part of Street Art Magic and have a hand ...</td>\n",
       "      <td>5</td>\n",
       "      <td>23</td>\n",
       "    </tr>\n",
       "    <tr>\n",
       "      <th>2</th>\n",
       "      <td>1102377</td>\n",
       "      <td>1</td>\n",
       "      <td>loving-becca-journey-of-child-loss</td>\n",
       "      <td>My writing changed after my daughter was kille...</td>\n",
       "      <td>6</td>\n",
       "      <td>26</td>\n",
       "    </tr>\n",
       "    <tr>\n",
       "      <th>3</th>\n",
       "      <td>2531031</td>\n",
       "      <td>0</td>\n",
       "      <td>the-sweet-botanist-syrup-co</td>\n",
       "      <td>The Sweet Botanist's natural syrups are made s...</td>\n",
       "      <td>5</td>\n",
       "      <td>19</td>\n",
       "    </tr>\n",
       "    <tr>\n",
       "      <th>4</th>\n",
       "      <td>95060</td>\n",
       "      <td>1</td>\n",
       "      <td>el-capitan-film-restoration</td>\n",
       "      <td>The digital restoration of the classic 1968 Ro...</td>\n",
       "      <td>4</td>\n",
       "      <td>12</td>\n",
       "    </tr>\n",
       "    <tr>\n",
       "      <th>...</th>\n",
       "      <td>...</td>\n",
       "      <td>...</td>\n",
       "      <td>...</td>\n",
       "      <td>...</td>\n",
       "      <td>...</td>\n",
       "      <td>...</td>\n",
       "    </tr>\n",
       "    <tr>\n",
       "      <th>205691</th>\n",
       "      <td>16327</td>\n",
       "      <td>1</td>\n",
       "      <td>new-media-elective-at-june-jordan-school-for-e...</td>\n",
       "      <td>Goal: Raise $5000 by December 31st to provide ...</td>\n",
       "      <td>9</td>\n",
       "      <td>22</td>\n",
       "    </tr>\n",
       "    <tr>\n",
       "      <th>205692</th>\n",
       "      <td>2428607</td>\n",
       "      <td>1</td>\n",
       "      <td>my-first-album-8</td>\n",
       "      <td>Since I was 4 years old my dream has been to b...</td>\n",
       "      <td>4</td>\n",
       "      <td>27</td>\n",
       "    </tr>\n",
       "    <tr>\n",
       "      <th>205693</th>\n",
       "      <td>71699</td>\n",
       "      <td>1</td>\n",
       "      <td>story-forge-brainstorming-cards-for-storytellers</td>\n",
       "      <td>The ultimate tool for quickly and easily brain...</td>\n",
       "      <td>6</td>\n",
       "      <td>19</td>\n",
       "    </tr>\n",
       "    <tr>\n",
       "      <th>205694</th>\n",
       "      <td>2426288</td>\n",
       "      <td>1</td>\n",
       "      <td>scythe-a-realistic-slasher-film</td>\n",
       "      <td>A psychological slasher thriller WITHOUT all t...</td>\n",
       "      <td>5</td>\n",
       "      <td>10</td>\n",
       "    </tr>\n",
       "    <tr>\n",
       "      <th>205695</th>\n",
       "      <td>218329</td>\n",
       "      <td>1</td>\n",
       "      <td>from-whiskey-to-diamonds-megan-marquettes-debu...</td>\n",
       "      <td>Megan Marquette will capture your attention an...</td>\n",
       "      <td>8</td>\n",
       "      <td>18</td>\n",
       "    </tr>\n",
       "  </tbody>\n",
       "</table>\n",
       "<p>198248 rows × 6 columns</p>\n",
       "</div>"
      ],
      "text/plain": [
       "        project_id state                                               slug  \\\n",
       "0          3251221     1                         believing-heart-tarot-deck   \n",
       "1           860485     0                      zone-7-street-arts-initiative   \n",
       "2          1102377     1                 loving-becca-journey-of-child-loss   \n",
       "3          2531031     0                        the-sweet-botanist-syrup-co   \n",
       "4            95060     1                        el-capitan-film-restoration   \n",
       "...            ...   ...                                                ...   \n",
       "205691       16327     1  new-media-elective-at-june-jordan-school-for-e...   \n",
       "205692     2428607     1                                   my-first-album-8   \n",
       "205693       71699     1   story-forge-brainstorming-cards-for-storytellers   \n",
       "205694     2426288     1                    scythe-a-realistic-slasher-film   \n",
       "205695      218329     1  from-whiskey-to-diamonds-megan-marquettes-debu...   \n",
       "\n",
       "                                                    blurb  slug_len  blurb_len  \n",
       "0       Believing Heart Tarot is a one of a kind addit...         4         25  \n",
       "1       Be a part of Street Art Magic and have a hand ...         5         23  \n",
       "2       My writing changed after my daughter was kille...         6         26  \n",
       "3       The Sweet Botanist's natural syrups are made s...         5         19  \n",
       "4       The digital restoration of the classic 1968 Ro...         4         12  \n",
       "...                                                   ...       ...        ...  \n",
       "205691  Goal: Raise $5000 by December 31st to provide ...         9         22  \n",
       "205692  Since I was 4 years old my dream has been to b...         4         27  \n",
       "205693  The ultimate tool for quickly and easily brain...         6         19  \n",
       "205694  A psychological slasher thriller WITHOUT all t...         5         10  \n",
       "205695  Megan Marquette will capture your attention an...         8         18  \n",
       "\n",
       "[198248 rows x 6 columns]"
      ]
     },
     "execution_count": 7,
     "metadata": {},
     "output_type": "execute_result"
    }
   ],
   "source": [
    "df_nlp"
   ]
  },
  {
   "cell_type": "code",
   "execution_count": 8,
   "id": "39d33157-4365-4be4-b198-f7048b562d12",
   "metadata": {},
   "outputs": [],
   "source": [
    "import re\n",
    "# Preprocessing STEPS\n",
    "df_blurb_slug = df_nlp.copy()\n",
    "\n",
    "# Contraction/Expansion of short words\n",
    "contractions_dict = {\n",
    "    'didn\\'t': 'did not',\n",
    "    'don\\'t': 'do not',\n",
    "    \"aren't\": \"are not\",\n",
    "    \"can't\": \"cannot\",\n",
    "    \"cant\": \"cannot\",\n",
    "    \"can't've\": \"cannot have\",\n",
    "    \"'cause\": \"because\",\n",
    "    \"could've\": \"could have\",\n",
    "    \"couldn't\": \"could not\",\n",
    "    \"couldn't've\": \"could not have\",\n",
    "    \"didn't\": \"did not\",\n",
    "    \"didnt\": \"did not\",\n",
    "    \"doesn't\": \"does not\",\n",
    "    \"doesnt\": \"does not\",\n",
    "    \"don't\": \"do not\",\n",
    "    \"dont\" : \"do not\",\n",
    "    \"hadn't\": \"had not\",\n",
    "    \"hadn't've\": \"had not have\",\n",
    "    \"hasn't\": \"has not\",\n",
    "    \"haven't\": \"have not\",\n",
    "    \"he'd\": \"he had\",\n",
    "    \"he'd've\": \"he would have\",\n",
    "    \"he'll\": \"he will\",\n",
    "    \"he's\": \"he is\",\n",
    "    \"how'd\": \"how did\",\n",
    "    \"how'd'y\": \"how do you\",\n",
    "    \"how'll\": \"how will\",\n",
    "    \"how's\": \"how is\",\n",
    "    \"i'd\": \"i had\",\n",
    "    \"i'd've\": \"i would have\",\n",
    "    \"i'll\": \"i will\",\n",
    "    \"i'm\": \"i am\",\n",
    "    \"im\": \"i am\",\n",
    "    \"i've\": \"i have\",\n",
    "    \"isn't\": \"is not\",\n",
    "    \"it'll\": \"it will\",\n",
    "    \"it's\": \"it is\",\n",
    "    \"let's\": \"let us\",\n",
    "    \"ma'am\": \"madam\",\n",
    "    \"mayn't\": \"may not\",\n",
    "    \"might've\": \"might have\",\n",
    "    \"mightn't\": \"might not\",\n",
    "    \"must've\": \"must have\",\n",
    "    \"mustn't\": \"must not\",\n",
    "    \"mustn't've\": \"must not have\",\n",
    "    \"needn't\": \"need not\",\n",
    "    \"needn't've\": \"need not have\",\n",
    "    \"oughtn't\": \"ought not\",\n",
    "    \"oughtn't've\": \"ought not have\",\n",
    "    \"shan't\": \"shall not\",\n",
    "    \"sha'n't\": \"shall not\",\n",
    "    \"shan't've\": \"shall not have\",\n",
    "    \"she'd\": \"she had\",\n",
    "    \"she'd've\": \"she would have\",\n",
    "    \"she'll\": \"she will\",\n",
    "    \"she's\": \"she is\",\n",
    "    \"should've\": \"should have\",\n",
    "    \"shouldn't\": \"should not\",\n",
    "    \"shouldn't've\": \"should not have\",\n",
    "    \"that's\": \"that is\",\n",
    "    \"there's\": \"there is\",\n",
    "    \"they'd\": \"they had\",\n",
    "    \"they'd've\": \"they would have\",\n",
    "    \"they'll\": \"they will\",\n",
    "    \"they're\": \"they are\",\n",
    "    \"they've\": \"they have\",\n",
    "    \"to've\": \"to have\",\n",
    "    \"wasn't\": \"was not\",\n",
    "    \"we'd\": \"we had\",\n",
    "    \"we'd've\": \"we would have\",\n",
    "    \"we'll\": \"we will\",\n",
    "    \"we'll've\": \"we will have\",\n",
    "    \"we're\": \"we are\",\n",
    "    \"we've\": \"we have\",\n",
    "    \"weren't\": \"were not\",\n",
    "    \"what're\": \"what are\",\n",
    "    \"what's\": \"what is\",\n",
    "    \"what've\": \"what have\",\n",
    "    \"when've\": \"when have\",\n",
    "    \"where'd\": \"where did\",\n",
    "    \"where's\": \"where is\",\n",
    "    \"where've\": \"where have\",\n",
    "    \"who'll\": \"who will\",\n",
    "    \"who's\": \"who is\",\n",
    "    \"will've\": \"will have\",\n",
    "    \"won't\": \"will not\",\n",
    "    \"won't've\": \"will not have\",\n",
    "    \"would've\": \"would have\",\n",
    "    \"wouldn't\": \"would not\",\n",
    "    \"wouldn't've\": \"would not have\",\n",
    "    \"y'all\": \"you all\",\n",
    "    \"you'll\": \"you will\",\n",
    "    \"you're\": \"you are\",\n",
    "    \"you've\": \"you have\"\n",
    "    }"
   ]
  },
  {
   "cell_type": "code",
   "execution_count": 9,
   "id": "7d8ab11f-83c3-494f-9f2d-1acf01cb42bd",
   "metadata": {},
   "outputs": [
    {
     "name": "stdout",
     "output_type": "stream",
     "text": [
      "Requirement already satisfied: num2words in /opt/anaconda3/lib/python3.8/site-packages (0.5.10)\n",
      "Requirement already satisfied: docopt>=0.6.2 in /opt/anaconda3/lib/python3.8/site-packages (from num2words) (0.6.2)\n"
     ]
    }
   ],
   "source": [
    "! pip install num2words"
   ]
  },
  {
   "cell_type": "code",
   "execution_count": 19,
   "id": "0938b2eb-80fa-48c5-bb7c-07fb344c19ed",
   "metadata": {},
   "outputs": [],
   "source": [
    "import nltk \n",
    "from nltk.corpus import stopwords\n",
    "from nltk.tokenize import word_tokenize\n",
    "#from num2words import num2words\n",
    "\n",
    "# Creating a Function for the Created Expansion Code\n",
    "contractions_re = re.compile('(%s)' % '|'.join(contractions_dict.keys()))\n",
    "\n",
    "def expand_contractions(s, contractions_dict=contractions_dict):\n",
    "    def replace(match):\n",
    "        return contractions_dict[match.group(0)]\n",
    "    return contractions_re.sub(replace, s)\n",
    "\n",
    "# Normalize words\n",
    "stop_words = nltk.corpus.stopwords.words('english')\n",
    "\n",
    "def normalize_document(d):\n",
    "    d = d.lower() # lower case\n",
    "    d = expand_contractions(d) #apply contraction-expansion function\n",
    "    #change numbers to words\n",
    "    d = re.sub(r'[^a-zA-Z0-9\\s]', '', d, re.I|re.A) # substitute any character that is not a-z or A-Z and remove whitespaces\n",
    "    d = d.strip()\n",
    "    tokens = nltk.word_tokenize(d) # tokenize document\n",
    "    # filter stopwords out of document\n",
    "    filtered_tokens = [token for token in tokens if token not in stop_words]\n",
    "    # re-create document from filtered tokens\n",
    "    d = ' '.join(filtered_tokens)\n",
    "    return d\n",
    "\n",
    "df_blurb_slug['blurb'] = df_blurb_slug['blurb'].apply(normalize_document)\n",
    "\n",
    "df_blurb_slug['slug'] = df_blurb_slug['slug'].str.replace(\"-\", \" \")\n",
    "\n",
    "# This below it's probably useless because slug it's already normalized.\n",
    "df_blurb_slug['slug'] = df_blurb_slug['slug'].apply(normalize_document)\n",
    "\n",
    "# Here, we assume that non-character words, such as punctuation, play a minimal role in prediction. \n",
    "# The words are also then stemmed into their root words, and Stop Words are also removed."
   ]
  },
  {
   "cell_type": "code",
   "execution_count": null,
   "id": "0449cdce-310e-4614-b2c5-1c0edbdedc3e",
   "metadata": {},
   "outputs": [],
   "source": [
    "# Stemming \n",
    "from nltk.stem.snowball import SnowballStemmer\n",
    "\n",
    "# Lemmatization\n",
    "from nltk.stem.wordnet import WordNetLemmatizer"
   ]
  },
  {
   "cell_type": "code",
   "execution_count": 37,
   "id": "9d0bcea0-9ff9-4ca6-afe3-9c285d5ad4ba",
   "metadata": {},
   "outputs": [],
   "source": [
    "from sklearn.model_selection import train_test_split\n",
    "\n",
    "# Train and test datasets\n",
    "X = df_blurb_slug['blurb'].values\n",
    "y = df_blurb_slug['state'].values\n",
    "\n",
    "X_train, X_test, y_train, y_test = train_test_split(X,y,test_size=0.3,shuffle=True, random_state=123)\n"
   ]
  },
  {
   "cell_type": "code",
   "execution_count": 38,
   "id": "147e0e5b-3479-40fb-a62b-271afba58da7",
   "metadata": {},
   "outputs": [],
   "source": [
    "# Bag of words, check frequency\n",
    "# Create bag of words Model\n",
    "from sklearn.feature_extraction.text import CountVectorizer\n",
    "#cv=CountVectorizer(max_features=2500) #Keep top 2500 most frequently used words\n",
    "#X=cv.fit_transform(corpus).toarray() #Develop a sparse matrix for every word\n",
    "#y=df_blurb_slug.iloc[0:len(df_blurb_slug[‘blurb’]),3].values\n",
    "\n",
    "# Consider only the **** most used words. Understand the number by trying which one makes more difference\n"
   ]
  },
  {
   "cell_type": "code",
   "execution_count": 43,
   "id": "9d0bfe5e-b807-4905-a176-fb81a44aeb72",
   "metadata": {},
   "outputs": [
    {
     "ename": "ValueError",
     "evalue": "Unknown label type: 'unknown'",
     "output_type": "error",
     "traceback": [
      "\u001b[0;31m---------------------------------------------------------------------------\u001b[0m",
      "\u001b[0;31mValueError\u001b[0m                                Traceback (most recent call last)",
      "\u001b[0;32m<ipython-input-43-bac581cea745>\u001b[0m in \u001b[0;36m<module>\u001b[0;34m\u001b[0m\n\u001b[1;32m     13\u001b[0m \u001b[0;34m\u001b[0m\u001b[0m\n\u001b[1;32m     14\u001b[0m \u001b[0mlr\u001b[0m \u001b[0;34m=\u001b[0m \u001b[0mLogisticRegression\u001b[0m\u001b[0;34m(\u001b[0m\u001b[0mpenalty\u001b[0m\u001b[0;34m=\u001b[0m\u001b[0;34m'l2'\u001b[0m\u001b[0;34m,\u001b[0m \u001b[0mmax_iter\u001b[0m\u001b[0;34m=\u001b[0m\u001b[0;36m500\u001b[0m\u001b[0;34m,\u001b[0m \u001b[0mC\u001b[0m\u001b[0;34m=\u001b[0m\u001b[0;36m1\u001b[0m\u001b[0;34m,\u001b[0m \u001b[0msolver\u001b[0m\u001b[0;34m=\u001b[0m\u001b[0;34m'lbfgs'\u001b[0m\u001b[0;34m,\u001b[0m \u001b[0mrandom_state\u001b[0m\u001b[0;34m=\u001b[0m\u001b[0;36m42\u001b[0m\u001b[0;34m)\u001b[0m\u001b[0;34m\u001b[0m\u001b[0;34m\u001b[0m\u001b[0m\n\u001b[0;32m---> 15\u001b[0;31m \u001b[0mlr\u001b[0m\u001b[0;34m.\u001b[0m\u001b[0mfit\u001b[0m\u001b[0;34m(\u001b[0m\u001b[0mtv_train_features\u001b[0m\u001b[0;34m,\u001b[0m \u001b[0my_train\u001b[0m\u001b[0;34m)\u001b[0m\u001b[0;34m\u001b[0m\u001b[0;34m\u001b[0m\u001b[0m\n\u001b[0m\u001b[1;32m     16\u001b[0m \u001b[0my_train\u001b[0m\u001b[0;34m\u001b[0m\u001b[0;34m\u001b[0m\u001b[0m\n\u001b[1;32m     17\u001b[0m \u001b[0;31m# predict on test data\u001b[0m\u001b[0;34m\u001b[0m\u001b[0;34m\u001b[0m\u001b[0;34m\u001b[0m\u001b[0m\n",
      "\u001b[0;32m/opt/anaconda3/lib/python3.8/site-packages/sklearn/linear_model/_logistic.py\u001b[0m in \u001b[0;36mfit\u001b[0;34m(self, X, y, sample_weight)\u001b[0m\n\u001b[1;32m   1345\u001b[0m                                    \u001b[0morder\u001b[0m\u001b[0;34m=\u001b[0m\u001b[0;34m\"C\"\u001b[0m\u001b[0;34m,\u001b[0m\u001b[0;34m\u001b[0m\u001b[0;34m\u001b[0m\u001b[0m\n\u001b[1;32m   1346\u001b[0m                                    accept_large_sparse=solver != 'liblinear')\n\u001b[0;32m-> 1347\u001b[0;31m         \u001b[0mcheck_classification_targets\u001b[0m\u001b[0;34m(\u001b[0m\u001b[0my\u001b[0m\u001b[0;34m)\u001b[0m\u001b[0;34m\u001b[0m\u001b[0;34m\u001b[0m\u001b[0m\n\u001b[0m\u001b[1;32m   1348\u001b[0m         \u001b[0mself\u001b[0m\u001b[0;34m.\u001b[0m\u001b[0mclasses_\u001b[0m \u001b[0;34m=\u001b[0m \u001b[0mnp\u001b[0m\u001b[0;34m.\u001b[0m\u001b[0munique\u001b[0m\u001b[0;34m(\u001b[0m\u001b[0my\u001b[0m\u001b[0;34m)\u001b[0m\u001b[0;34m\u001b[0m\u001b[0;34m\u001b[0m\u001b[0m\n\u001b[1;32m   1349\u001b[0m \u001b[0;34m\u001b[0m\u001b[0m\n",
      "\u001b[0;32m/opt/anaconda3/lib/python3.8/site-packages/sklearn/utils/multiclass.py\u001b[0m in \u001b[0;36mcheck_classification_targets\u001b[0;34m(y)\u001b[0m\n\u001b[1;32m    181\u001b[0m     if y_type not in ['binary', 'multiclass', 'multiclass-multioutput',\n\u001b[1;32m    182\u001b[0m                       'multilabel-indicator', 'multilabel-sequences']:\n\u001b[0;32m--> 183\u001b[0;31m         \u001b[0;32mraise\u001b[0m \u001b[0mValueError\u001b[0m\u001b[0;34m(\u001b[0m\u001b[0;34m\"Unknown label type: %r\"\u001b[0m \u001b[0;34m%\u001b[0m \u001b[0my_type\u001b[0m\u001b[0;34m)\u001b[0m\u001b[0;34m\u001b[0m\u001b[0;34m\u001b[0m\u001b[0m\n\u001b[0m\u001b[1;32m    184\u001b[0m \u001b[0;34m\u001b[0m\u001b[0m\n\u001b[1;32m    185\u001b[0m \u001b[0;34m\u001b[0m\u001b[0m\n",
      "\u001b[0;31mValueError\u001b[0m: Unknown label type: 'unknown'"
     ]
    }
   ],
   "source": [
    "# Tfid\n",
    "from sklearn.feature_extraction.text import TfidfVectorizer\n",
    "from sklearn.linear_model import LogisticRegression\n",
    "from sklearn.metrics import confusion_matrix, classification_report, accuracy_score\n",
    "\n",
    "tv = TfidfVectorizer(use_idf=True, min_df=5, max_df=1.0, ngram_range=(1,2),\n",
    "                     sublinear_tf=True)\n",
    "\n",
    "tv_train_features = tv.fit_transform(X_train)\n",
    "tv_test_features = tv.transform(X_test)\n",
    "\n",
    "from sklearn.linear_model import LogisticRegression\n",
    "\n",
    "lr = LogisticRegression(penalty='l2', max_iter=500, C=1, solver='lbfgs', random_state=42)\n",
    "#lr.fit(tv_train_features, y_train)\n",
    "\n",
    "# predict on test data\n",
    "#lr_tfidf_predictions = lr.predict(tv_test_features)\n",
    "\n",
    "#labels = ['failed', 'successful']\n",
    "\n",
    "##finding accuracy using confusion matrix\n",
    "\n",
    "#print(classification_report(y_test, lr_tfidf_predictions))\n",
    "\n",
    "#confusion_matrix(y_test, lr_tfidf_predictions), index=labels, columns=labels)"
   ]
  },
  {
   "cell_type": "code",
   "execution_count": 25,
   "id": "4d1a7fe1-6326-4cd3-bc38-018b050e085f",
   "metadata": {},
   "outputs": [
    {
     "ename": "KeyError",
     "evalue": "53",
     "output_type": "error",
     "traceback": [
      "\u001b[0;31m---------------------------------------------------------------------------\u001b[0m",
      "\u001b[0;31mKeyError\u001b[0m                                  Traceback (most recent call last)",
      "\u001b[0;32m/opt/anaconda3/lib/python3.8/site-packages/pandas/core/indexes/base.py\u001b[0m in \u001b[0;36mget_loc\u001b[0;34m(self, key, method, tolerance)\u001b[0m\n\u001b[1;32m   3079\u001b[0m             \u001b[0;32mtry\u001b[0m\u001b[0;34m:\u001b[0m\u001b[0;34m\u001b[0m\u001b[0;34m\u001b[0m\u001b[0m\n\u001b[0;32m-> 3080\u001b[0;31m                 \u001b[0;32mreturn\u001b[0m \u001b[0mself\u001b[0m\u001b[0;34m.\u001b[0m\u001b[0m_engine\u001b[0m\u001b[0;34m.\u001b[0m\u001b[0mget_loc\u001b[0m\u001b[0;34m(\u001b[0m\u001b[0mcasted_key\u001b[0m\u001b[0;34m)\u001b[0m\u001b[0;34m\u001b[0m\u001b[0;34m\u001b[0m\u001b[0m\n\u001b[0m\u001b[1;32m   3081\u001b[0m             \u001b[0;32mexcept\u001b[0m \u001b[0mKeyError\u001b[0m \u001b[0;32mas\u001b[0m \u001b[0merr\u001b[0m\u001b[0;34m:\u001b[0m\u001b[0;34m\u001b[0m\u001b[0;34m\u001b[0m\u001b[0m\n",
      "\u001b[0;32mpandas/_libs/index.pyx\u001b[0m in \u001b[0;36mpandas._libs.index.IndexEngine.get_loc\u001b[0;34m()\u001b[0m\n",
      "\u001b[0;32mpandas/_libs/index.pyx\u001b[0m in \u001b[0;36mpandas._libs.index.IndexEngine.get_loc\u001b[0;34m()\u001b[0m\n",
      "\u001b[0;32mpandas/_libs/hashtable_class_helper.pxi\u001b[0m in \u001b[0;36mpandas._libs.hashtable.Int64HashTable.get_item\u001b[0;34m()\u001b[0m\n",
      "\u001b[0;32mpandas/_libs/hashtable_class_helper.pxi\u001b[0m in \u001b[0;36mpandas._libs.hashtable.Int64HashTable.get_item\u001b[0;34m()\u001b[0m\n",
      "\u001b[0;31mKeyError\u001b[0m: 53",
      "\nThe above exception was the direct cause of the following exception:\n",
      "\u001b[0;31mKeyError\u001b[0m                                  Traceback (most recent call last)",
      "\u001b[0;32m<ipython-input-25-1983e2d3aeb2>\u001b[0m in \u001b[0;36m<module>\u001b[0;34m\u001b[0m\n\u001b[1;32m      7\u001b[0m     \u001b[0;32mif\u001b[0m \u001b[0mi\u001b[0m\u001b[0;34m==\u001b[0m\u001b[0;36m44343\u001b[0m \u001b[0;32mor\u001b[0m \u001b[0mi\u001b[0m\u001b[0;34m==\u001b[0m\u001b[0;36m62766\u001b[0m \u001b[0;32mor\u001b[0m \u001b[0mi\u001b[0m\u001b[0;34m==\u001b[0m\u001b[0;36m97999\u001b[0m\u001b[0;34m:\u001b[0m\u001b[0;34m\u001b[0m\u001b[0;34m\u001b[0m\u001b[0m\n\u001b[1;32m      8\u001b[0m         \u001b[0;32mcontinue\u001b[0m\u001b[0;34m\u001b[0m\u001b[0;34m\u001b[0m\u001b[0m\n\u001b[0;32m----> 9\u001b[0;31m     \u001b[0mtext\u001b[0m\u001b[0;34m=\u001b[0m\u001b[0mtext\u001b[0m\u001b[0;34m+\u001b[0m\u001b[0mstr\u001b[0m\u001b[0;34m(\u001b[0m\u001b[0mdf_blurb_slug\u001b[0m\u001b[0;34m.\u001b[0m\u001b[0mblurb\u001b[0m\u001b[0;34m[\u001b[0m\u001b[0mi\u001b[0m\u001b[0;34m]\u001b[0m\u001b[0;34m)\u001b[0m\u001b[0;34m\u001b[0m\u001b[0;34m\u001b[0m\u001b[0m\n\u001b[0m\u001b[1;32m     10\u001b[0m \u001b[0;34m\u001b[0m\u001b[0m\n\u001b[1;32m     11\u001b[0m \u001b[0mwordcloud\u001b[0m \u001b[0;34m=\u001b[0m \u001b[0mWordCloud\u001b[0m\u001b[0;34m(\u001b[0m\u001b[0mmax_font_size\u001b[0m\u001b[0;34m=\u001b[0m\u001b[0;36m50\u001b[0m\u001b[0;34m,\u001b[0m \u001b[0mmax_words\u001b[0m\u001b[0;34m=\u001b[0m\u001b[0;36m40\u001b[0m\u001b[0;34m,\u001b[0m\u001b[0mbackground_color\u001b[0m\u001b[0;34m=\u001b[0m\u001b[0;34m\"white\"\u001b[0m\u001b[0;34m)\u001b[0m\u001b[0;34m.\u001b[0m\u001b[0mgenerate\u001b[0m\u001b[0;34m(\u001b[0m\u001b[0mtext\u001b[0m\u001b[0;34m.\u001b[0m\u001b[0mlower\u001b[0m\u001b[0;34m(\u001b[0m\u001b[0;34m)\u001b[0m\u001b[0;34m)\u001b[0m\u001b[0;34m\u001b[0m\u001b[0;34m\u001b[0m\u001b[0m\n",
      "\u001b[0;32m/opt/anaconda3/lib/python3.8/site-packages/pandas/core/series.py\u001b[0m in \u001b[0;36m__getitem__\u001b[0;34m(self, key)\u001b[0m\n\u001b[1;32m    851\u001b[0m \u001b[0;34m\u001b[0m\u001b[0m\n\u001b[1;32m    852\u001b[0m         \u001b[0;32melif\u001b[0m \u001b[0mkey_is_scalar\u001b[0m\u001b[0;34m:\u001b[0m\u001b[0;34m\u001b[0m\u001b[0;34m\u001b[0m\u001b[0m\n\u001b[0;32m--> 853\u001b[0;31m             \u001b[0;32mreturn\u001b[0m \u001b[0mself\u001b[0m\u001b[0;34m.\u001b[0m\u001b[0m_get_value\u001b[0m\u001b[0;34m(\u001b[0m\u001b[0mkey\u001b[0m\u001b[0;34m)\u001b[0m\u001b[0;34m\u001b[0m\u001b[0;34m\u001b[0m\u001b[0m\n\u001b[0m\u001b[1;32m    854\u001b[0m \u001b[0;34m\u001b[0m\u001b[0m\n\u001b[1;32m    855\u001b[0m         \u001b[0;32mif\u001b[0m \u001b[0mis_hashable\u001b[0m\u001b[0;34m(\u001b[0m\u001b[0mkey\u001b[0m\u001b[0;34m)\u001b[0m\u001b[0;34m:\u001b[0m\u001b[0;34m\u001b[0m\u001b[0;34m\u001b[0m\u001b[0m\n",
      "\u001b[0;32m/opt/anaconda3/lib/python3.8/site-packages/pandas/core/series.py\u001b[0m in \u001b[0;36m_get_value\u001b[0;34m(self, label, takeable)\u001b[0m\n\u001b[1;32m    959\u001b[0m \u001b[0;34m\u001b[0m\u001b[0m\n\u001b[1;32m    960\u001b[0m         \u001b[0;31m# Similar to Index.get_value, but we do not fall back to positional\u001b[0m\u001b[0;34m\u001b[0m\u001b[0;34m\u001b[0m\u001b[0;34m\u001b[0m\u001b[0m\n\u001b[0;32m--> 961\u001b[0;31m         \u001b[0mloc\u001b[0m \u001b[0;34m=\u001b[0m \u001b[0mself\u001b[0m\u001b[0;34m.\u001b[0m\u001b[0mindex\u001b[0m\u001b[0;34m.\u001b[0m\u001b[0mget_loc\u001b[0m\u001b[0;34m(\u001b[0m\u001b[0mlabel\u001b[0m\u001b[0;34m)\u001b[0m\u001b[0;34m\u001b[0m\u001b[0;34m\u001b[0m\u001b[0m\n\u001b[0m\u001b[1;32m    962\u001b[0m         \u001b[0;32mreturn\u001b[0m \u001b[0mself\u001b[0m\u001b[0;34m.\u001b[0m\u001b[0mindex\u001b[0m\u001b[0;34m.\u001b[0m\u001b[0m_get_values_for_loc\u001b[0m\u001b[0;34m(\u001b[0m\u001b[0mself\u001b[0m\u001b[0;34m,\u001b[0m \u001b[0mloc\u001b[0m\u001b[0;34m,\u001b[0m \u001b[0mlabel\u001b[0m\u001b[0;34m)\u001b[0m\u001b[0;34m\u001b[0m\u001b[0;34m\u001b[0m\u001b[0m\n\u001b[1;32m    963\u001b[0m \u001b[0;34m\u001b[0m\u001b[0m\n",
      "\u001b[0;32m/opt/anaconda3/lib/python3.8/site-packages/pandas/core/indexes/base.py\u001b[0m in \u001b[0;36mget_loc\u001b[0;34m(self, key, method, tolerance)\u001b[0m\n\u001b[1;32m   3080\u001b[0m                 \u001b[0;32mreturn\u001b[0m \u001b[0mself\u001b[0m\u001b[0;34m.\u001b[0m\u001b[0m_engine\u001b[0m\u001b[0;34m.\u001b[0m\u001b[0mget_loc\u001b[0m\u001b[0;34m(\u001b[0m\u001b[0mcasted_key\u001b[0m\u001b[0;34m)\u001b[0m\u001b[0;34m\u001b[0m\u001b[0;34m\u001b[0m\u001b[0m\n\u001b[1;32m   3081\u001b[0m             \u001b[0;32mexcept\u001b[0m \u001b[0mKeyError\u001b[0m \u001b[0;32mas\u001b[0m \u001b[0merr\u001b[0m\u001b[0;34m:\u001b[0m\u001b[0;34m\u001b[0m\u001b[0;34m\u001b[0m\u001b[0m\n\u001b[0;32m-> 3082\u001b[0;31m                 \u001b[0;32mraise\u001b[0m \u001b[0mKeyError\u001b[0m\u001b[0;34m(\u001b[0m\u001b[0mkey\u001b[0m\u001b[0;34m)\u001b[0m \u001b[0;32mfrom\u001b[0m \u001b[0merr\u001b[0m\u001b[0;34m\u001b[0m\u001b[0;34m\u001b[0m\u001b[0m\n\u001b[0m\u001b[1;32m   3083\u001b[0m \u001b[0;34m\u001b[0m\u001b[0m\n\u001b[1;32m   3084\u001b[0m         \u001b[0;32mif\u001b[0m \u001b[0mtolerance\u001b[0m \u001b[0;32mis\u001b[0m \u001b[0;32mnot\u001b[0m \u001b[0;32mNone\u001b[0m\u001b[0;34m:\u001b[0m\u001b[0;34m\u001b[0m\u001b[0;34m\u001b[0m\u001b[0m\n",
      "\u001b[0;31mKeyError\u001b[0m: 53"
     ]
    }
   ],
   "source": [
    "# Word Cloud\n",
    "from wordcloud import WordCloud \n",
    "import matplotlib.pyplot as plt\n",
    "\n",
    "text=\"\"\n",
    "for i in range(len(df_blurb_slug.blurb)):\n",
    "    if i==44343 or i==62766 or i==97999:\n",
    "        continue\n",
    "    text=text+str(df_blurb_slug.blurb[i])\n",
    "    \n",
    "wordcloud = WordCloud(max_font_size=50, max_words=40,background_color=\"white\").generate(text.lower())\n",
    "plt.figure(figsize=(12,5))\n",
    "plt.imshow(wordcloud, interpolation='bilinear')\n",
    "plt.axis(\"off\")\n",
    "plt.show()"
   ]
  },
  {
   "cell_type": "code",
   "execution_count": null,
   "id": "59f2651c-88ef-4faa-879c-1c2534c6c56c",
   "metadata": {},
   "outputs": [],
   "source": [
    "# Fitting our classifier\n",
    "# Splitting the dataset into the Training set and Test set\n",
    "from sklearn.model_selection import train_test_split\n",
    "X_train, X_test, y_train, y_test = train_test_split(X, y, test_size = 0.20, random_state = 0)\n",
    "# Fitting Logistic Regression to the Training set\n",
    "from sklearn.linear_model import LogisticRegression\n",
    "classifier = LogisticRegression(random_state = 0)\n",
    "classifier.fit(X_train, y_train)\n"
   ]
  },
  {
   "cell_type": "code",
   "execution_count": null,
   "id": "c1b1ebfe-93da-45ac-a8d5-f419c3b759c6",
   "metadata": {},
   "outputs": [],
   "source": [
    "# Predictions\n",
    "pred=classifier.predict_proba(X_test)[:,1]\n",
    "pred=pred>0.9\n",
    "pred=pred.astype(int)\n",
    "from sklearn.metrics import confusion_matrix\n",
    "cm = confusion_matrix(y_test, pred)\n",
    "precision=cm[1,1]/(cm[0,1]+cm[1,1])\n",
    "print(\"Precision is \"+precision)"
   ]
  },
  {
   "cell_type": "code",
   "execution_count": null,
   "id": "6797e376-38c5-4203-abbc-5c28f2424a5c",
   "metadata": {},
   "outputs": [],
   "source": [
    "# Try neural network thwough the bag of words model\n",
    "# Use Word2vec to convert the words to vectors through the GloVe data, and then run a neural network through it. I have even attempted to cluster the observations through K-Means clustering based on the descriptions to achieve better results. Dimensionality reduction techniques did not do much as well.\n",
    "#Despite their greater sophistication and purported effectiveness with text, these models could not beat the accuracy of a simple Logsitic Regression. In fact, such models took a much longer processing time."
   ]
  },
  {
   "cell_type": "code",
   "execution_count": null,
   "id": "e97cced2-bd43-49a2-9df5-3af89e44e91f",
   "metadata": {},
   "outputs": [],
   "source": [
    "# Tfid\n",
    "from sklearn.feature_extraction.text import TfidfVectorizer\n",
    "# https://github.com/sridhar-e/Kickstarter-Projects-NLP/blob/master/Kickstarter-Projects-NLP.py"
   ]
  }
 ],
 "metadata": {
  "kernelspec": {
   "display_name": "Python 3",
   "language": "python",
   "name": "python3"
  },
  "language_info": {
   "codemirror_mode": {
    "name": "ipython",
    "version": 3
   },
   "file_extension": ".py",
   "mimetype": "text/x-python",
   "name": "python",
   "nbconvert_exporter": "python",
   "pygments_lexer": "ipython3",
   "version": "3.8.8"
  }
 },
 "nbformat": 4,
 "nbformat_minor": 5
}
