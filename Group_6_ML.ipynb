{
 "cells": [
  {
   "cell_type": "markdown",
   "id": "1b29e218",
   "metadata": {},
   "source": [
    "# KICKSTARTER - group 6"
   ]
  },
  {
   "cell_type": "markdown",
   "id": "39da6b6c",
   "metadata": {},
   "source": [
    "## From Business Problem to ML Problem\n",
    "\n",
    "#### BUSINESS OVERVIEW\n",
    "Kickstarter is a crowdfunding platform that allows people to support creative projects. Film, gaming, and music, as well as art, design, and technology projects, are all covered.\n",
    "\n",
    "The dataset at hand was crawled from the platform and contains detailed information about all current and historic projects on Kickstarter, as well as their status (successful, failed, canceled, live, suspended). \n",
    "\n",
    "Every project creator establishes a financing target (funding goal) and a deadline for their project. People can donate money to help make the concept a reality if they like it. Funding on Kickstarter is *“all-or-nothing”*. If the project meets its funding goal, all backers' credit cards will be charged after the deadline passes and Kickstarter deducts a 5% fee from pledged amount. On the other hand, if the projects fall short of its funding goal, no one is charged. \n",
    "\n",
    "Project creators retain complete ownership of their work. After a project is deemed successful, Kickstarter cannot be used to seek loans or to give financial returns or equity. Backers can support projects to help them come to life, not to profit monetarily. \n",
    "\n",
    "As stated from the platform’s website, while 10% of projects finished having never received a single pledge, 78% of projects that raised more than 20% of their goal were successfully funded. Therefore Kickstarter has a great potential to bring ideas to fruition\n",
    "\n",
    "#### PROJECT’S GOAL\n",
    "\n",
    "During the course of this project, we will take the perspective of project creators to assist them in optimizing their proposal. \n",
    "\n",
    "For a project’s success or failure on crowdfunding platforms, it’s important to consider the influence of all the factors characterizing that project. Some of these factors can be measured or classified, allowing for the development of a model to forecast whether a project will succeed or fail. \n",
    "\n",
    "Some projects are more successful than others and our intuition is that this does not always depend on the key idea. Some projects might fail because they don’t hit the target (backers) due to wrong descriptions, uncommon topic, too high funding goal or simply the project doesn’t seem trustworthy\n",
    "\n",
    "The goal of this project is to analyze Kickstarter projects’ data and build a useful model for project creators to understand which features attract backers the most or which projects are most likely to collect a higher amount. We will try to find the main patterns and the odds of a project’s success. Thanks to this model, decision makers (project creators) will gain useful insights before publishing their project on the platform.\n",
    "\n",
    "#### PROBLEM DEFINITION\n",
    "\n",
    "In order to achieve the goal explained above, we will use a dataset crawled from Kickstarter, which contains detailed information about all current and historic projects on Kickstarter, as well as their status (successful, failed, canceled, live, suspended). The dataset contains all the projects hosted between **MISSING** and **MISSING**.\n",
    "\n",
    "Given the **big amount** of original data available (205696 projects with more than 37 variables), and the reasons explained below, it is reasonable to involve automation to solve this problem. \n",
    "- There is no existing formula to answer the main question.The features of each project set on the platform contribute in different ways to its success and this cannot be translated into simple rules.\n",
    "- Analyzing the probability of success and which are the main drivers of the end result, project by project, would **not** be **feasible**. \n",
    "- Some columns like the description of the project (blurb) contain **unstructured text** which needs to be analyzed. Nevertheless, there are few features with unstructured text. \n",
    "\n",
    "All in all, there is a big potential for data to be **represented in a meaningful way**, with both numbers and categorical values (e.g. state, status, location). \n",
    "\n",
    "#### STRUCTURE OF THE DATA\n",
    "\n",
    "The amount of data available is enough to build a machine learning model. We have information regarding:\n",
    "- The type of the project (category, subcategory, brief description, its profile)\n",
    "- The creator\n",
    "- The start date, the duration of the crowdfunding, and the date when the status of the project was changed \n",
    "- The funding goal, the pledged amount, the original currency, the exchange rate and the converted pledged amount. \n",
    "- The number of backers achieved. \n",
    "For more information regarding the variables available, please see the **DATA CLEANING** section.\n",
    "\n",
    "The **quality** and the **quantity** of data are fundamental to building an efficient model. The data available is complete and consistent across the datasets. There are some variables with almost all empty cells (friends, is_starred, etc.) and some others with an invalid format (category, creator, location, etc.) that must be modified. \n",
    "\n",
    "Around 55% of the projects available are successful, ~ 36% are labeled as failed and the rest is live/canceled/suspended. This means we have little information regarding the canceled projects. Nevertheless, we have a big and balanced amount of successful and failed projects. \n",
    "\n",
    "12% of the projects are current ones, while around 88% are past projects. This difference is valuable since we will work on past projects to build an efficient model and apply it to current projects. \n",
    "\n",
    "Projects are split into 15 categories and 159 subcategories. As we can see on the right, Music, Film & Video and Technology are the categories with more projects while Dance is the category with only 3 subcategories and 3156 projects (less than 2% of the entire dataset).\n",
    "\n",
    "All in all, we can state the quality of data is good enough to work on it and create a model. \n",
    "\n",
    "Data available presents **regular patterns** between the independent variables (inputs) and the final result (success/failure, pledged amount)\n",
    "These patterns are necessary for the model to learn from them and to extract a valid output.\n",
    "\n",
    "**WE MISS A PART DESCRIBING IF WE DROP SOME VARIABLES AND WHY, IF WE WILL USE NLP AND WHY, AND PARTS LIKE Some features were initially retained for exploratory data analysis (EDA) purposes, but were then dropped in order to use machine learning models. These included features that are related to outcomes (e.g. the amount pledged and the number of backers) rather than related to the properties of the project itself (e.g. category, goal, length of campaign). IN THE EDA**\n",
    "\n",
    " \n",
    "#### EVALUATION OF THE MODEL – criteria\n",
    "**TO BE REVIEWED**\n",
    "1. Proportion of the projects where the model accurately predicted the final success or failure of the project. \n",
    "2. The difference between the level of the pledged amount predicted by the model against the amount achieved \n",
    "3. The number of backers predicted for the specific type of project from the model versus the actual amount of backers\n"
   ]
  },
  {
   "cell_type": "markdown",
   "id": "fb40589f",
   "metadata": {},
   "source": [
    "## Loading data"
   ]
  },
  {
   "cell_type": "markdown",
   "id": "59a9519d-4160-44b7-bcc7-c6ac07912319",
   "metadata": {},
   "source": [
    "Import the dataset:"
   ]
  },
  {
   "cell_type": "code",
   "execution_count": 1,
   "id": "417cdc56",
   "metadata": {},
   "outputs": [],
   "source": [
    "import pandas as pd\n",
    "import numpy as np\n",
    "import os\n",
    "import datetime"
   ]
  },
  {
   "cell_type": "markdown",
   "id": "82304077-c010-44bf-9e56-d087029bf3f4",
   "metadata": {},
   "source": [
    "\n",
    "Merge all the csv files to have all the data together."
   ]
  },
  {
   "cell_type": "code",
   "execution_count": null,
   "id": "dbf321ad-763b-4435-b06e-fb9e0505ea31",
   "metadata": {
    "tags": []
   },
   "outputs": [],
   "source": [
    "files = [file for file in os.listdir('Kickstarter_Dataset')]\n",
    "\n",
    "all_df = pd.DataFrame()\n",
    "\n",
    "for file in files:\n",
    "    df = pd.read_csv('./Kickstarter_Dataset/'+file)\n",
    "    all_df = pd.concat([all_df, df])\n",
    "    \n",
    "all_df.to_csv(\"Kickstarter_Complete.csv\", index = False)"
   ]
  },
  {
   "cell_type": "markdown",
   "id": "af440e5f-24f3-4d75-8dda-de3b4bcd8580",
   "metadata": {},
   "source": [
    "Import the complete dataset."
   ]
  },
  {
   "cell_type": "code",
   "execution_count": null,
   "id": "295e8a06-a867-4dcd-b966-cefd09be5e30",
   "metadata": {},
   "outputs": [],
   "source": [
    "df = pd.read_csv(\"Kickstarter_Complete.csv\")\n",
    "\n",
    "df.head()"
   ]
  },
  {
   "cell_type": "code",
   "execution_count": null,
   "id": "02d3be97",
   "metadata": {},
   "outputs": [],
   "source": [
    "df.dtypes"
   ]
  },
  {
   "cell_type": "markdown",
   "id": "0fc5bfdd",
   "metadata": {},
   "source": [
    "## Data Cleaning"
   ]
  },
  {
   "cell_type": "markdown",
   "id": "479e5086-27ef-4eff-a972-9f2ebd7c4dbc",
   "metadata": {},
   "source": [
    "#### Columns to delete."
   ]
  },
  {
   "cell_type": "markdown",
   "id": "0eeb7186-bbd1-4d5a-873c-d9d6067356aa",
   "metadata": {},
   "source": [
    "We decided to delete the following columns: currency_symbol, id, photo, permissions(276), friends(274), source_url, is_backing (276), is_starred (276). "
   ]
  },
  {
   "cell_type": "code",
   "execution_count": null,
   "id": "bd373d89-59b3-423b-913f-66d694beb481",
   "metadata": {},
   "outputs": [],
   "source": [
    "del df['currency_symbol']\n",
    "del df['id']\n",
    "del df['photo']\n",
    "del df['permissions']\n",
    "del df['friends']\n",
    "del df['source_url']\n",
    "del df['is_backing']\n",
    "del df['is_starred']"
   ]
  },
  {
   "cell_type": "markdown",
   "id": "a0a6acdf-937d-48e3-83b1-745dda3cc557",
   "metadata": {},
   "source": [
    "#### Rename backers_count into nr_backers.\n",
    "backers_count shows the number of backers for that project."
   ]
  },
  {
   "cell_type": "code",
   "execution_count": null,
   "id": "6c087ab5-65c7-4a35-8ece-c7f6063abeea",
   "metadata": {},
   "outputs": [],
   "source": [
    "df=df.rename(columns={\"backers_count\":\"nr_backers\"})"
   ]
  },
  {
   "cell_type": "markdown",
   "id": "94f6ca2d-4659-4023-8e4f-860ee1b74a4e",
   "metadata": {},
   "source": [
    "#### Create 3 new columns from the category column: category, subcategory and category_id."
   ]
  },
  {
   "cell_type": "code",
   "execution_count": null,
   "id": "cc68f340-18c4-4add-afd5-c90d5918f9c4",
   "metadata": {},
   "outputs": [],
   "source": [
    "df=df.rename(columns={\"category\":\"Category\"})"
   ]
  },
  {
   "cell_type": "code",
   "execution_count": null,
   "id": "8c98fd41-3c52-4de2-ac15-ade398163d6a",
   "metadata": {},
   "outputs": [],
   "source": [
    "df['category'] = df['Category'].apply(lambda x: x.split('\"slug\":\"')[1].split('/')[0])\n",
    "df['category'] = df['category'].apply(lambda x: x.split('\"')[0])\n",
    "df['subcategory'] = df['Category'].apply(lambda x: x.split('\"name\":\"')[1].split('\"')[0])\n",
    "df['subcategory_id'] = df['Category'].apply(lambda x: x.split('\"id\":')[1].split(',')[0])"
   ]
  },
  {
   "cell_type": "code",
   "execution_count": null,
   "id": "9034b2af-d08a-47ac-a7c2-d76cb46a8003",
   "metadata": {},
   "outputs": [],
   "source": [
    "del df['Category']"
   ]
  },
  {
   "cell_type": "markdown",
   "id": "6e69e0c4-6dae-4b3d-99f8-fb6c066a1e7d",
   "metadata": {},
   "source": [
    "#### Modify the date time columns."
   ]
  },
  {
   "cell_type": "code",
   "execution_count": null,
   "id": "4e985b17-300c-4909-b11e-6f49c731bf5f",
   "metadata": {},
   "outputs": [],
   "source": [
    "df['created_at'] = pd.to_datetime(df['created_at'], unit=\"s\").dt.date\n",
    "df['state_changed_at'] = pd.to_datetime(df['state_changed_at'], unit=\"s\").dt.date\n",
    "df['deadline'] = pd.to_datetime(df['deadline'], unit=\"s\").dt.date\n",
    "df['launched_at'] = pd.to_datetime(df['launched_at'], unit=\"s\").dt.date"
   ]
  },
  {
   "cell_type": "code",
   "execution_count": null,
   "id": "b544f601-bda3-4d35-b08b-53a5773f6f30",
   "metadata": {},
   "outputs": [],
   "source": [
    "df.head()"
   ]
  },
  {
   "cell_type": "markdown",
   "id": "5bf54fe8-232f-4b14-a27e-6630ac2b23b5",
   "metadata": {},
   "source": [
    "#### Create 4 new columns from the creator one: creator_id, creator_name, is_registered."
   ]
  },
  {
   "cell_type": "code",
   "execution_count": null,
   "id": "3d976407-2814-4ace-a610-4ade6fe12042",
   "metadata": {},
   "outputs": [],
   "source": [
    "df['creator_id'] = df['creator'].apply(lambda x: x.split('\"id\":')[1].split(',')[0])\n",
    "df['creator_name'] = df['creator'].apply(lambda x: x.split('\"name\":\"')[1].split('\"')[0])\n",
    "df['is_creator_registered'] = df['creator'].apply(lambda x: x.split('\"is_registered\":')[1].split(',')[0])"
   ]
  },
  {
   "cell_type": "code",
   "execution_count": null,
   "id": "e63d60e1-c393-409c-98d6-1db56af60ba1",
   "metadata": {},
   "outputs": [],
   "source": [
    "del df['creator']"
   ]
  },
  {
   "cell_type": "markdown",
   "id": "a08572bc-d9a9-4c06-8db1-b34d9f575e04",
   "metadata": {},
   "source": [
    "#### Create 2 new columns from the location one: city and state."
   ]
  },
  {
   "cell_type": "code",
   "execution_count": null,
   "id": "d02fa66d-5b2f-4714-bfef-7b3a19308bb7",
   "metadata": {},
   "outputs": [],
   "source": [
    "df['nation'] = df['location'].astype(str).apply(lambda x: x.split('\"state\":\"')[1].split('\"')[0] if len(x.split('\"state\":\"'))>1 else x.split('-')[0])\n",
    "df['city'] = df['location'].astype(str).apply(lambda x: x.split('\"name\":\"')[1].split('\"')[0] if len(x.split('\"name\":\"'))>1 else x.split('-')[0])"
   ]
  },
  {
   "cell_type": "code",
   "execution_count": null,
   "id": "bd51846d-cdce-4d56-824d-1da8ae9bb043",
   "metadata": {},
   "outputs": [],
   "source": [
    "del df['location']"
   ]
  },
  {
   "cell_type": "markdown",
   "id": "3cc7c40c-251a-49f9-ab13-407af2a6731c",
   "metadata": {},
   "source": [
    "#### Create 2 columns from the profile one: project_id and project_status."
   ]
  },
  {
   "cell_type": "code",
   "execution_count": null,
   "id": "784661e6-4374-4a5b-b1c4-fc92904d3a73",
   "metadata": {},
   "outputs": [],
   "source": [
    "df['project_id'] = df['profile'].apply(lambda x: x.split('\"id\":')[1].split(',')[0])\n",
    "df['project_status'] = df['profile'].apply(lambda x: x.split('\"state\":\"')[1].split('\"')[0])"
   ]
  },
  {
   "cell_type": "code",
   "execution_count": null,
   "id": "b58c53e1-b723-4ba0-b972-358472dc4d28",
   "metadata": {},
   "outputs": [],
   "source": [
    "del df['profile']"
   ]
  },
  {
   "cell_type": "markdown",
   "id": "69e28ad9-a5ca-4325-a61b-346a7108a2cd",
   "metadata": {},
   "source": [
    "#### Modify the urls column."
   ]
  },
  {
   "cell_type": "code",
   "execution_count": null,
   "id": "216ca43f-e4fc-4b6e-9a8e-d92a9b878b1a",
   "metadata": {},
   "outputs": [],
   "source": [
    "df['url'] = df['urls'].apply(lambda x: x.split('\"project\":\"')[1].split('\"')[0])"
   ]
  },
  {
   "cell_type": "code",
   "execution_count": null,
   "id": "0831d8a1-c490-4506-81d6-bedbe0d5c3e1",
   "metadata": {},
   "outputs": [],
   "source": [
    "del df['urls']"
   ]
  },
  {
   "cell_type": "markdown",
   "id": "d96e9162-12fd-4747-9a0a-2e50b238a3de",
   "metadata": {},
   "source": [
    "#### Ordering the columns."
   ]
  },
  {
   "cell_type": "code",
   "execution_count": null,
   "id": "b6983f3c-597f-4b9d-8e6e-0d448f9d1d6a",
   "metadata": {},
   "outputs": [],
   "source": [
    "df = df[['project_id', 'state', 'name', 'slug', 'blurb', 'url', 'category', 'subcategory','subcategory_id', \n",
    "         'creator_id', 'creator_name', 'is_creator_registered', 'country', 'nation', 'city', 'created_at', \n",
    "         'launched_at','deadline', 'nr_backers', 'goal', 'pledged', 'currency', 'usd_pledged', 'current_currency', \n",
    "         'fx_rate', 'static_usd_rate', 'currency_trailing_code', 'usd_type', 'project_status', 'state_changed_at',  \n",
    "         'disable_communication', 'is_starrable', 'spotlight', 'staff_pick' ]]"
   ]
  },
  {
   "cell_type": "code",
   "execution_count": null,
   "id": "4b98d508-1957-4c1a-ba34-028a2cd1e052",
   "metadata": {},
   "outputs": [],
   "source": [
    "df.to_csv(\"Cleaned_Kickstarter.csv\", index = False)"
   ]
  },
  {
   "cell_type": "code",
   "execution_count": null,
   "id": "bbd52391",
   "metadata": {},
   "outputs": [],
   "source": [
    "df.dtypes"
   ]
  },
  {
   "cell_type": "markdown",
   "id": "111de351",
   "metadata": {},
   "source": [
    "#### Description of our final variables\n",
    "\n",
    "- project_id: id of the project.\n",
    "- state: status of the project (successful, failed, canceled, live, suspended)\n",
    "- name: name of the project.\n",
    "- slug: nickname of the project.\n",
    "- blurb: description of what’s the project about.\n",
    "- url: url of the project.\n",
    "- category: category of the project.\n",
    "- subcategory: subcategory of the project.\n",
    "- subcategory_id: id of the subcategory of the project.\n",
    "- creator_id: id of the creator of the project.\n",
    "- creator_name: name of the creator of the project.\n",
    "- is_creator_registered: \n",
    "- country: country where the project has originated.\n",
    "- nation: nation where the project has originated.\n",
    "- city: city where the project has originated.\n",
    "- created_at: when the project has been created - yyyy/mm/dd.\n",
    "- launched_at: launch date of the project - yyyy/mm/dd.\n",
    "- deadline: deadline of the project - yyyy/mm/dd.\n",
    "- nr_backers: number of backers for the project.\n",
    "- goal: amount of money for reaching the goal.\n",
    "- pledged: pledged amount in the initial currency.\n",
    "- currency: currency of the project.\n",
    "- usd_pledged: pledged amount multiplied for the static usd rate.             \n",
    "- current_currency: current currency of the project.\n",
    "- fx_rate: exchange rate.               \n",
    "- static_usd_rate.      \n",
    "- currency_trailing_code.   \n",
    "- usd_type: international or domestic.               \n",
    "- project_status.          \n",
    "- state_changed_at: when the state of the project changed - yyyy/mm/dd.         \n",
    "- disable_communication: status about communication, id false for all campaigns that have ended.   \n",
    "- is_starrable: how successful Kickstarter believes the campaign will be.           \n",
    "- spotlight: after your project is successfully funded you will gain access to the Spotlight page tool which allows you to make a home for your project.   \n",
    "- staff_pick: feature that highlits promising projects on the site to give them a boost by helping them get exposure through email newsletter and highlighted spots around the site."
   ]
  },
  {
   "cell_type": "markdown",
   "id": "ba468ff2",
   "metadata": {},
   "source": [
    "##  Exploratory Data Analysis"
   ]
  },
  {
   "cell_type": "markdown",
   "id": "6e132673",
   "metadata": {},
   "source": [
    "### Main Statistics"
   ]
  },
  {
   "cell_type": "markdown",
   "id": "a7c6052e",
   "metadata": {},
   "source": [
    "How many successful/failed/canceled projects?"
   ]
  },
  {
   "cell_type": "code",
   "execution_count": null,
   "id": "5a3ca555",
   "metadata": {},
   "outputs": [],
   "source": [
    "df['state'].value_counts(normalize=True) * 100"
   ]
  },
  {
   "cell_type": "markdown",
   "id": "894351d9",
   "metadata": {},
   "source": [
    "Statistics regarding categories and subcategories available"
   ]
  },
  {
   "cell_type": "code",
   "execution_count": null,
   "id": "c77ebd7d",
   "metadata": {},
   "outputs": [],
   "source": [
    "nr_category = df['category'].nunique()\n",
    "nr_subcategory = df['subcategory'].nunique()\n",
    "active_projects = df['project_status'].value_counts()\n",
    "\n",
    "print(f'There are {nr_category} categories')\n",
    "print(f'There are {nr_subcategory} subcategories')\n",
    "print(f'There are {active_projects[1]} current projects and {active_projects[0]} past ones')"
   ]
  },
  {
   "cell_type": "code",
   "execution_count": null,
   "id": "cb56264e",
   "metadata": {},
   "outputs": [],
   "source": [
    "df_category = pd.DataFrame({ 'Nr of subcategories': df.groupby('category')['subcategory'].nunique(),\n",
    "                            'Projects per category': df.groupby('category')['project_id'].nunique()\n",
    "                           }).sort_values('Projects per category', ascending = False)\n",
    "df_category[\"Frequency\"] = df_category['Projects per category']/df_category['Projects per category'].sum()*100\n",
    "\n",
    "df_category\n"
   ]
  },
  {
   "cell_type": "code",
   "execution_count": null,
   "id": "fe7d06b5",
   "metadata": {},
   "outputs": [],
   "source": [
    "cat_sub = df.groupby(['category','subcategory']).size()\n",
    "cat_sub_frame = cat_sub.to_frame()\n",
    "cat_sub_frame"
   ]
  },
  {
   "cell_type": "markdown",
   "id": "9a4b8a78-41d5-4b61-b3fa-51041055fe03",
   "metadata": {},
   "source": [
    "#### Statistic evaluation:\n",
    "- mean/median # of backers or amout collected per cat/subcat\n",
    "- correlation? \n",
    "    - on nr_backers, usd_pledged, category, subcategory"
   ]
  },
  {
   "cell_type": "code",
   "execution_count": null,
   "id": "f7f0f843-1ae9-47c6-a436-ca003aef9680",
   "metadata": {},
   "outputs": [],
   "source": [
    "df.columns"
   ]
  },
  {
   "cell_type": "code",
   "execution_count": null,
   "id": "3fb56179-5aca-4df4-86c6-db8efa9a2740",
   "metadata": {},
   "outputs": [],
   "source": [
    "pd.set_option('display.max_columns', None)\n",
    "\n",
    "df_grouped = df.groupby('category')\n",
    "df_grouped.describe()"
   ]
  },
  {
   "cell_type": "code",
   "execution_count": null,
   "id": "53a7b5e9-ab7d-4ca3-8e43-e60de89a5caa",
   "metadata": {},
   "outputs": [],
   "source": [
    "df_grouped.mean()"
   ]
  },
  {
   "cell_type": "markdown",
   "id": "b0ac4128-364c-4d38-86d3-eb9624a5f0fc",
   "metadata": {},
   "source": [
    "### Visualization"
   ]
  },
  {
   "cell_type": "code",
   "execution_count": null,
   "id": "330e2685-8989-4cee-883e-4d898b3f2569",
   "metadata": {},
   "outputs": [],
   "source": [
    "import seaborn as sns\n",
    "from matplotlib import pyplot as plt\n",
    "from matplotlib import cm"
   ]
  },
  {
   "cell_type": "code",
   "execution_count": null,
   "id": "cfcc8979-d939-48e5-af3e-c0345b3c421e",
   "metadata": {},
   "outputs": [],
   "source": [
    "plt.figure(figsize=(16,6))\n",
    "df['launched_at'] = pd.to_datetime(df['launched_at'])\n",
    "df.set_index('launched_at').category.resample('M').count().plot() #resampling time series to Months\n",
    "plt.xlim('2009-01-01', '2018-12-31')\n",
    "plt.xlabel('')\n",
    "plt.ylabel('Number of projects')\n",
    "plt.title('Number of projects launched on Kickstarter, 2009-2019')\n",
    "plt.show()"
   ]
  },
  {
   "cell_type": "code",
   "execution_count": null,
   "id": "aafde88b-9f1d-4c56-bd05-a0b2976d553b",
   "metadata": {},
   "outputs": [],
   "source": [
    "#year_df['launched_at'] = pd.to_datetime(year_df['launched_at'],format='%Y')\n",
    "year_df = df.set_index('launched_at').state\n",
    "year_df = pd.get_dummies(year_df).resample('YS').sum()\n",
    "year_df1 = year_df[['successful', 'failed']]\n",
    "\n",
    "fig, ax = plt.subplots(1,2, figsize=(16,6))\n",
    "year_df1.plot.bar(ax=ax[0], color=['darkblue', 'grey'])\n",
    "ax[0].set_title('Total number of failed and successful projects')\n",
    "ax[0].set_xlabel('')\n",
    "\n",
    "year_df1[\"successful\"].div(year_df.sum(axis=1), axis=0).plot(kind='bar', ax=ax[1], color='darkblue') # Normalizes counts across rows\n",
    "ax[1].set_title('Success Rate')\n",
    "ax[1].set_xlabel('')\n",
    "plt.show()"
   ]
  },
  {
   "cell_type": "markdown",
   "id": "c9b21a8a-8870-496e-9edf-4eecba9ec3cf",
   "metadata": {},
   "source": [
    "The left image depicts the total number of failed and successful projects, which indicated that the total number of failures and successes have been decreading since 2013. Not equally as the right images showcases: the success rate has depreciated over the past years."
   ]
  },
  {
   "cell_type": "code",
   "execution_count": null,
   "id": "0dd3008e-a160-4246-890c-cdeeb8d5a6e5",
   "metadata": {},
   "outputs": [],
   "source": [
    "fig, ((ax1, ax2, ax3)) = plt.subplots(3, 1, figsize=(16,20))\n",
    "color = cm.CMRmap(np.linspace(0, 1, 16,df.category.nunique()))\n",
    "\n",
    "df.groupby('category').category.count().plot(kind='bar', ax=ax1, color=color)\n",
    "ax1.set_title('Number of projects')\n",
    "ax1.set_xlabel('')\n",
    "\n",
    "df.groupby('category').goal.median().plot(kind='bar', ax=ax2, color=color)\n",
    "ax2.set_title('Median project goal ($)')\n",
    "ax2.set_xlabel('')\n",
    "\n",
    "df.groupby('category').usd_pledged.median().plot(kind='bar', ax=ax3, color=color)\n",
    "ax3.set_title('Median pledged per project ($)')\n",
    "ax3.set_xlabel('')\n",
    "\n",
    "fig.subplots_adjust(hspace=0.5)\n",
    "plt.show()"
   ]
  },
  {
   "cell_type": "markdown",
   "id": "08b6ca1f-2b8c-497d-87e2-bf1659a623a6",
   "metadata": {},
   "source": [
    "The illustrations above aim to highlight the differences among the 15 different categories. Film&Video is the most used category, closely followed by music. Art, publishing and technology take the third place. However, technology has the highest median project goal. Design is the category with the highed pledged amount per project."
   ]
  },
  {
   "cell_type": "code",
   "execution_count": null,
   "id": "37415bcb-ee63-4a22-81be-ba969c21dc30",
   "metadata": {},
   "outputs": [],
   "source": [
    "plt.figure(figsize=(16,6))\n",
    "df.set_index('launched_at').sort_index().usd_pledged.cumsum().plot()\n",
    "plt.xlim('2009-01-01', '2019-02-28') # Limiting to whole months\n",
    "plt.xlabel('')\n",
    "plt.ylabel('Cumulative amount pledged in $', fontsize=12)\n",
    "plt.title('Cumulative pledged', fontsize=16)\n",
    "plt.show()"
   ]
  },
  {
   "cell_type": "markdown",
   "id": "605f984a-f0a0-46b5-9062-1de4049bb680",
   "metadata": {},
   "source": [
    "The cumulative pledged figure shows the total of pledged amounts for each year 2009-2019. The trend can be split into two phases, with a change in 2013/2014."
   ]
  },
  {
   "cell_type": "code",
   "execution_count": null,
   "id": "897472ce-6b3b-438e-9ca3-fe5b7ebc793f",
   "metadata": {},
   "outputs": [],
   "source": [
    "plt.figure(figsize=(16,6))\n",
    "sns.boxplot(df.launched_at.dt.year, np.log(df.usd_pledged))\n",
    "plt.xlabel('')\n",
    "plt.ylabel('Amount pledged (log-transformed)',) #Log-transforming to make the trend clearer, as the distribution is heavily positively skewed\n",
    "plt.title('Amount pledged on Kickstarter projects, 2009-2019')\n",
    "plt.show()"
   ]
  },
  {
   "cell_type": "markdown",
   "id": "ec7861ea-b3d3-4821-942e-6b1af68134c5",
   "metadata": {},
   "source": [
    "Again, the trend can be split into two phases, with a change in 2014. We can see a greater variation in amounts pledged from 2014, with lower median amounts than before 2014, but generally higher mean amounts due to some very large projects."
   ]
  },
  {
   "cell_type": "markdown",
   "id": "a51501d3",
   "metadata": {},
   "source": [
    "### Prototype model - Logistic Regression\n",
    "For our dummy model we train a classification model with several numeric and categorical features of completed projects to get an estimation whether the model would generally be able to predict the success of a project.\n",
    "\n",
    "Numeric features: \n",
    "- Nr of Backers\n",
    "- Goal\n",
    "\n",
    "Categorical features:\n",
    "- Category\n",
    "- Subcategory\n",
    "- Country \n",
    "- Nation\n",
    "- spotlight\n",
    "- staff_pick\n",
    "\n",
    "Target variable: \n",
    "- state"
   ]
  },
  {
   "cell_type": "code",
   "execution_count": null,
   "id": "47196412",
   "metadata": {},
   "outputs": [],
   "source": [
    "#Imports\n",
    "from sklearn.pipeline import Pipeline\n",
    "from sklearn.impute import SimpleImputer\n",
    "from sklearn.preprocessing import StandardScaler\n",
    "from sklearn.model_selection import train_test_split\n",
    "from sklearn.preprocessing import OneHotEncoder\n",
    "from sklearn.compose import ColumnTransformer\n",
    "from sklearn import set_config \n",
    "from sklearn.linear_model import LogisticRegressionCV\n",
    "from sklearn.metrics import classification_report\n",
    "from sklearn.linear_model import LogisticRegression"
   ]
  },
  {
   "cell_type": "code",
   "execution_count": null,
   "id": "f09f56d5",
   "metadata": {},
   "outputs": [],
   "source": [
    "#Transform dataset\n",
    "df_dummy=df\n",
    "\n",
    "df_dummy=df_dummy.loc[df['state'].isin([\"failed\",\"successful\"])]\n",
    "df_dummy=df_dummy.loc[df['project_status'].isin([\"inactive\"])]\n",
    "\n",
    "#Drop unused columns\n",
    "del_col=['project_id', 'name', 'slug', 'blurb', 'url', 'subcategory_id', 'creator_id', 'creator_name',\n",
    "        'city', 'created_at', 'launched_at', 'deadline','pledged', 'currency', 'usd_pledged', 'current_currency',\n",
    "        'fx_rate', 'static_usd_rate', 'currency_trailing_code', 'usd_type', 'project_status','state_changed_at',\n",
    "        'disable_communication', 'is_creator_registered','is_starrable']\n",
    "\n",
    "df_dummy=df_dummy.drop(del_col, axis = 1)\n",
    "\n",
    "#Transform y to 0:1 \n",
    "y=df_dummy[\"state\"].replace({'failed' : 0, 'successful': 1})\n",
    "\n",
    "X=df_dummy\n",
    "X=X.drop('state', axis = 1)"
   ]
  },
  {
   "cell_type": "markdown",
   "id": "36bc9415",
   "metadata": {},
   "source": [
    "#### Trial #1"
   ]
  },
  {
   "cell_type": "code",
   "execution_count": null,
   "id": "b65b5620",
   "metadata": {},
   "outputs": [],
   "source": [
    "#Build preprocessor for columns\n",
    "#Standardize numerical features\n",
    "numeric_features=[\"nr_backers\", \"goal\"]\n",
    "numeric_transformer = Pipeline(steps =[\n",
    "    (\"imputer\",SimpleImputer(strategy=\"mean\")),\n",
    "    (\"scaler\", StandardScaler())])\n",
    "\n",
    "#Encode categorical features\n",
    "cat_features=[\"category\", \"subcategory\", \"country\", \"nation\", \"spotlight\", \"staff_pick\"]\n",
    "categorical_transformer = OneHotEncoder(handle_unknown=\"ignore\")\n",
    "\n",
    "#Column transformer\n",
    "preprocessor = ColumnTransformer(\n",
    "    transformers=[\n",
    "        (\"num\", numeric_transformer, numeric_features),\n",
    "        (\"cat\", categorical_transformer, cat_features)])\n",
    "\n",
    "set_config(display=\"diagram\")\n",
    "\n",
    "#Run Column Transformer\n",
    "X_trans = preprocessor.fit_transform(X)\n",
    "\n",
    "X_train, X_test, y_train, y_test = train_test_split(X_trans,y,test_size=0.2,shuffle=True, random_state=123)\n",
    "\n",
    "#Build Logistic Regression\n",
    "clf = LogisticRegression()\n",
    "clf.fit(X_train, y_train)\n",
    "\n",
    "# Making predictions\n",
    "y_train_pred = clf.predict(X_train)\n",
    "y_test_pred = clf.predict(X_test)"
   ]
  },
  {
   "cell_type": "markdown",
   "id": "1cf4ac25",
   "metadata": {},
   "source": [
    "#### Evaluation #1"
   ]
  },
  {
   "cell_type": "code",
   "execution_count": null,
   "id": "e14f54a6",
   "metadata": {},
   "outputs": [],
   "source": [
    "# Logistic regression scores\n",
    "print(\"Logistic regression score for training set:\", round(clf.score(X_train, y_train),5))\n",
    "print(\"Logistic regression score for test set:\", round(clf.score(X_test, y_test),5))\n",
    "print(\"\\nClassification report:\")\n",
    "print(classification_report(y_test, y_test_pred))"
   ]
  },
  {
   "cell_type": "markdown",
   "id": "90f3bffb",
   "metadata": {},
   "source": [
    "The performance metrics are  extremely high and decribe a perfect model. This is mainly because  the feature \"spotlight\" is perfectly correlated to the target variable. In the following trial we will evaluate the model without this feature. Nonetheless, \"spotlight\" is an important variable that needs further analysis. "
   ]
  },
  {
   "cell_type": "markdown",
   "id": "c1de38f2",
   "metadata": {},
   "source": [
    "#### Trial #2"
   ]
  },
  {
   "cell_type": "code",
   "execution_count": null,
   "id": "4a2ce295",
   "metadata": {},
   "outputs": [],
   "source": [
    "#Build preprocessor for columns\n",
    "#Standardize numerical features\n",
    "numeric_features=[\"nr_backers\", \"goal\"]\n",
    "numeric_transformer = Pipeline(steps =[\n",
    "    (\"imputer\",SimpleImputer(strategy=\"mean\")),\n",
    "    (\"scaler\", StandardScaler())])\n",
    "\n",
    "#Encode categorical features\n",
    "cat_features=[\"category\", \"subcategory\", \"country\", \"nation\", \"staff_pick\"]\n",
    "categorical_transformer = OneHotEncoder(handle_unknown=\"ignore\")\n",
    "\n",
    "#Column transformer\n",
    "preprocessor = ColumnTransformer(\n",
    "    transformers=[\n",
    "        (\"num\", numeric_transformer, numeric_features),\n",
    "        (\"cat\", categorical_transformer, cat_features)])\n",
    "\n",
    "set_config(display=\"diagram\")\n",
    "\n",
    "#Run Column Transformer\n",
    "X_trans = preprocessor.fit_transform(X)\n",
    "\n",
    "X_train, X_test, y_train, y_test = train_test_split(X_trans,y,test_size=0.2,shuffle=True, random_state=123)\n",
    "\n",
    "#Build Logistic Regression\n",
    "clf = LogisticRegression()\n",
    "clf.fit(X_train, y_train)\n",
    "\n",
    "# Making predictions\n",
    "y_train_pred = clf.predict(X_train)\n",
    "y_test_pred = clf.predict(X_test)"
   ]
  },
  {
   "cell_type": "markdown",
   "id": "fccaea08",
   "metadata": {},
   "source": [
    "#### Evaluation #2"
   ]
  },
  {
   "cell_type": "code",
   "execution_count": null,
   "id": "e2a8c523",
   "metadata": {},
   "outputs": [],
   "source": [
    "# Logistic regression scores\n",
    "print(\"Logistic regression score for training set:\", round(clf.score(X_train, y_train),5))\n",
    "print(\"Logistic regression score for test set:\", round(clf.score(X_test, y_test),5))\n",
    "print(\"\\nClassification report:\")\n",
    "print(classification_report(y_test, y_test_pred))"
   ]
  },
  {
   "cell_type": "markdown",
   "id": "7b0b7d22-c3cd-449e-bb8c-228997e9c2e8",
   "metadata": {},
   "source": [
    "# Machine Learning Models\n",
    "## Overview\n",
    "\n",
    "1. Logistic Regression\n",
    "2. Logistic Regression PCA (Domi)\n",
    "3. XYZ\n",
    "4. Random Forest (Maria, Eugenia)"
   ]
  },
  {
   "cell_type": "code",
   "execution_count": null,
   "id": "c1f1e369-9fd2-4043-82c1-70e8a2176a28",
   "metadata": {},
   "outputs": [],
   "source": [
    "# Importing the required libraries\n",
    "import matplotlib.pyplot as plt\n",
    "from sklearn.decomposition import PCA\n"
   ]
  },
  {
   "cell_type": "code",
   "execution_count": null,
   "id": "8cfa1786-83ee-4f3e-bede-65b1bf89d810",
   "metadata": {},
   "outputs": [],
   "source": [
    "# Fitting PCA\n",
    "pca = PCA()\n",
    "pca.fit_transform(X)\n",
    "explained_var = np.cumsum(pca.explained_variance_ratio_)\n",
    "# Plotting the amount of variation explained by PCA with different numbers of components\n",
    "plt.plot(list(range(1, len(explained_var)+1)), explained_var)\n",
    "plt.title('Amount of variation explained by PCA', fontsize=14)\n",
    "plt.xlabel('Number of components')\n",
    "plt.ylabel('Explained variance');"
   ]
  },
  {
   "cell_type": "code",
   "execution_count": null,
   "id": "93997dd1-b386-46f2-bb2c-7075f869a676",
   "metadata": {},
   "outputs": [],
   "source": []
  }
 ],
 "metadata": {
  "kernelspec": {
   "display_name": "Python 3",
   "language": "python",
   "name": "python3"
  },
  "language_info": {
   "codemirror_mode": {
    "name": "ipython",
    "version": 3
   },
   "file_extension": ".py",
   "mimetype": "text/x-python",
   "name": "python",
   "nbconvert_exporter": "python",
   "pygments_lexer": "ipython3",
   "version": "3.8.8"
  }
 },
 "nbformat": 4,
 "nbformat_minor": 5
}
