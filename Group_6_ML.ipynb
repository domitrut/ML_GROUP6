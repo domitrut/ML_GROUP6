{
 "cells": [
  {
   "cell_type": "markdown",
   "id": "1b29e218",
   "metadata": {},
   "source": [
    "# MACHINE LEARNING - FINAL PROJECT - Ufficiale\n",
    "## KICKSTARTER\n",
    "### GROUP 6: \n",
    "- Maria Baglieri Occhipinti (49638)\n",
    "- Moritz Constantin Güttersberger (48845)\n",
    "- Moritz Lilleholt Häckel (49558)\n",
    "- Eugenia Saggioro (50958)\n",
    "- Dominik Trut (46274)\n",
    "\n",
    "\n",
    "### SUMMARY\n",
    "**TO BE ADJUSTED**\n",
    "\n",
    "[1. From BP to ML](#From-Business-Problem-to-Machine-Learning-Problem)\n",
    "\n",
    "[2. Data Understanding](#Loading-data) **CHANGE CONNECTION/RENAME**\n",
    "\n",
    "[3. Data Preparation](#Exploratory-Data-Analysis)\n",
    "\n",
    "[4. Modeling](#Modeling)\n",
    "\n",
    "[5. Evaluation](#Evaluation)\n",
    "\n",
    "[6. Conclusions](#Conclusions)"
   ]
  },
  {
   "cell_type": "markdown",
   "id": "39da6b6c",
   "metadata": {},
   "source": [
    "## From Business Problem to Machine Learning Problem\n",
    "\n",
    "#### BUSINESS OVERVIEW\n",
    "Kickstarter is a crowdfunding platform that allows people to support creative projects. Film, gaming, and music, as well as art, design, and technology projects, are all covered.\n",
    "\n",
    "The dataset at hand was crawled from the platform and contains detailed information about all current and historic projects on Kickstarter, as well as their status (successful, failed, canceled, live, suspended). \n",
    "\n",
    "Every project creator establishes a financing target (funding goal) and a deadline for their project. People can donate money to help make the concept a reality if they like it. Funding on Kickstarter is *“all-or-nothing”*. If the project meets its funding goal, all backers' credit cards will be charged after the deadline passes and Kickstarter deducts a 5% fee from pledged amount. On the other hand, if the projects fall short of its funding goal, no one is charged. \n",
    "\n",
    "Project creators retain complete ownership of their work. After a project is deemed successful, Kickstarter cannot be used to seek loans or to give financial returns or equity. Backers can support projects to help them come to life, not to profit monetarily. \n",
    "\n",
    "As stated from the platform’s website, while 10% of projects finished having never received a single pledge, 78% of projects that raised more than 20% of their goal were successfully funded. Therefore Kickstarter has a great potential to bring ideas to fruition\n",
    "\n",
    "#### PROJECT’S GOAL\n",
    "\n",
    "During the course of this project, we will take the perspective of project creators to assist them in optimizing their proposal. \n",
    "\n",
    "For a project’s success or failure on crowdfunding platforms, it’s important to consider the influence of all the factors characterizing that project. Some of these factors can be measured or classified, allowing for the development of a model to forecast whether a project will succeed or fail. \n",
    "\n",
    "Some projects are more successful than others and our intuition is that this does not always depend on the key idea. Some projects might fail because they don’t hit the target (backers) due to wrong descriptions, uncommon topic, too high funding goal or simply the project doesn’t seem trustworthy\n",
    "\n",
    "The goal of this project is to analyze Kickstarter projects’ data and build a useful model for project creators to understand which features attract backers the most or which projects are most likely to collect a higher amount. We will try to find the main patterns and the odds of a project’s success. Thanks to this model, decision makers (project creators) will gain useful insights before publishing their project on the platform.\n",
    "\n",
    "#### PROBLEM DEFINITION\n",
    "\n",
    "In order to achieve the goal explained above, we will use a dataset crawled from Kickstarter, which contains detailed information about all current and historic projects on Kickstarter, as well as their status (successful, failed, canceled, live, suspended). The dataset contains all the projects hosted between **MISSING** and **MISSING**.\n",
    "\n",
    "Given the **big amount** of original data available (205696 projects with more than 37 variables), and the reasons explained below, it is reasonable to involve automation to solve this problem. \n",
    "- There is no existing formula to answer the main question.The features of each project set on the platform contribute in different ways to its success and this cannot be translated into simple rules.\n",
    "- Analyzing the probability of success and which are the main drivers of the end result, project by project, would **not** be **feasible**. \n",
    "- Some columns like the description of the project (blurb) contain **unstructured text** which needs to be analyzed. Nevertheless, there are few features with unstructured text. \n",
    "\n",
    "All in all, there is a big potential for data to be **represented in a meaningful way**, with both numbers and categorical values (e.g. state, status, location). \n",
    "\n",
    "#### STRUCTURE OF THE DATA\n",
    "\n",
    "The amount of data available is enough to build a machine learning model. We have information regarding:\n",
    "- The type of the project (category, subcategory, brief description, its profile)\n",
    "- The creator\n",
    "- The start date, the duration of the crowdfunding, and the date when the status of the project was changed \n",
    "- The funding goal, the pledged amount, the original currency, the exchange rate and the converted pledged amount. \n",
    "- The number of backers achieved. \n",
    "For more information regarding the variables available, please see the **DATA CLEANING** section.\n",
    "\n",
    "The **quality** and the **quantity** of data are fundamental to building an efficient model. The data available is complete and consistent across the datasets. There are some variables with almost all empty cells (friends, is_starred, etc.) and some others with an invalid format (category, creator, location, etc.) that must be modified. \n",
    "\n",
    "Around 55% of the projects available are successful, ~ 36% are labeled as failed and the rest is live/canceled/suspended. This means we have little information regarding the canceled projects. Nevertheless, we have a big and balanced amount of successful and failed projects. \n",
    "\n",
    "12% of the projects are current ones, while around 88% are past projects. This difference is valuable since we will work on past projects to build an efficient model and apply it to current projects. \n",
    "\n",
    "Projects are split into 15 categories and 159 subcategories. As we can see on the right, Music, Film & Video and Technology are the categories with more projects while Dance is the category with only 3 subcategories and 3156 projects (less than 2% of the entire dataset).\n",
    "\n",
    "All in all, we can state the quality of data is good enough to work on it and create a model. \n",
    "\n",
    "Data available presents **regular patterns** between the independent variables (inputs) and the final result (success/failure, pledged amount)\n",
    "These patterns are necessary for the model to learn from them and to extract a valid output.\n",
    "\n",
    "**WE MISS A PART DESCRIBING IF WE DROP SOME VARIABLES AND WHY, IF WE WILL USE NLP AND WHY, AND PARTS LIKE Some features were initially retained for exploratory data analysis (EDA) purposes, but were then dropped in order to use machine learning models. These included features that are related to outcomes (e.g. the amount pledged and the number of backers) rather than related to the properties of the project itself (e.g. category, goal, length of campaign). IN THE EDA**\n",
    "\n",
    " \n",
    "#### EVALUATION OF THE MODEL – criteria\n",
    "**TO BE REVIEWED**\n",
    "1. Proportion of the projects where the model accurately predicted the final success or failure of the project. \n",
    "2. The difference between the level of the pledged amount predicted by the model against the amount achieved \n",
    "3. The number of backers predicted for the specific type of project from the model versus the actual amount of backers\n"
   ]
  },
  {
   "cell_type": "markdown",
   "id": "fb40589f",
   "metadata": {},
   "source": [
    "## Loading data"
   ]
  },
  {
   "cell_type": "markdown",
   "id": "59a9519d-4160-44b7-bcc7-c6ac07912319",
   "metadata": {},
   "source": [
    "Import the dataset:"
   ]
  },
  {
   "cell_type": "code",
   "execution_count": 1,
   "id": "417cdc56",
   "metadata": {},
   "outputs": [],
   "source": [
    "import pandas as pd\n",
    "import numpy as np\n",
    "import os\n",
    "import datetime"
   ]
  },
  {
   "cell_type": "markdown",
   "id": "82304077-c010-44bf-9e56-d087029bf3f4",
   "metadata": {},
   "source": [
    "\n",
    "Merge all the csv files to have all the data together."
   ]
  },
  {
   "cell_type": "code",
   "execution_count": 2,
   "id": "dbf321ad-763b-4435-b06e-fb9e0505ea31",
   "metadata": {
    "tags": []
   },
   "outputs": [],
   "source": [
    "files = [file for file in os.listdir('Kickstarter_Dataset')]\n",
    "\n",
    "all_df = pd.DataFrame()\n",
    "\n",
    "for file in files:\n",
    "    df = pd.read_csv('./Kickstarter_Dataset/'+file)\n",
    "    all_df = pd.concat([all_df, df])\n",
    "    \n",
    "all_df.to_csv(\"Kickstarter_Complete.csv\", index = False)"
   ]
  },
  {
   "cell_type": "markdown",
   "id": "af440e5f-24f3-4d75-8dda-de3b4bcd8580",
   "metadata": {},
   "source": [
    "Import the complete dataset."
   ]
  },
  {
   "cell_type": "code",
   "execution_count": 3,
   "id": "295e8a06-a867-4dcd-b966-cefd09be5e30",
   "metadata": {},
   "outputs": [
    {
     "data": {
      "text/html": [
       "<div>\n",
       "<style scoped>\n",
       "    .dataframe tbody tr th:only-of-type {\n",
       "        vertical-align: middle;\n",
       "    }\n",
       "\n",
       "    .dataframe tbody tr th {\n",
       "        vertical-align: top;\n",
       "    }\n",
       "\n",
       "    .dataframe thead th {\n",
       "        text-align: right;\n",
       "    }\n",
       "</style>\n",
       "<table border=\"1\" class=\"dataframe\">\n",
       "  <thead>\n",
       "    <tr style=\"text-align: right;\">\n",
       "      <th></th>\n",
       "      <th>backers_count</th>\n",
       "      <th>blurb</th>\n",
       "      <th>category</th>\n",
       "      <th>converted_pledged_amount</th>\n",
       "      <th>country</th>\n",
       "      <th>created_at</th>\n",
       "      <th>creator</th>\n",
       "      <th>currency</th>\n",
       "      <th>currency_symbol</th>\n",
       "      <th>currency_trailing_code</th>\n",
       "      <th>...</th>\n",
       "      <th>slug</th>\n",
       "      <th>source_url</th>\n",
       "      <th>spotlight</th>\n",
       "      <th>staff_pick</th>\n",
       "      <th>state</th>\n",
       "      <th>state_changed_at</th>\n",
       "      <th>static_usd_rate</th>\n",
       "      <th>urls</th>\n",
       "      <th>usd_pledged</th>\n",
       "      <th>usd_type</th>\n",
       "    </tr>\n",
       "  </thead>\n",
       "  <tbody>\n",
       "    <tr>\n",
       "      <th>0</th>\n",
       "      <td>210</td>\n",
       "      <td>Believing Heart Tarot is a one of a kind addit...</td>\n",
       "      <td>{\"id\":21,\"name\":\"Digital Art\",\"slug\":\"art/digi...</td>\n",
       "      <td>14166</td>\n",
       "      <td>US</td>\n",
       "      <td>1513372142</td>\n",
       "      <td>{\"id\":1647802423,\"name\":\"Catstealers-Zines\",\"s...</td>\n",
       "      <td>USD</td>\n",
       "      <td>$</td>\n",
       "      <td>True</td>\n",
       "      <td>...</td>\n",
       "      <td>believing-heart-tarot-deck</td>\n",
       "      <td>https://www.kickstarter.com/discover/categorie...</td>\n",
       "      <td>True</td>\n",
       "      <td>False</td>\n",
       "      <td>successful</td>\n",
       "      <td>1522555142</td>\n",
       "      <td>1.0</td>\n",
       "      <td>{\"web\":{\"project\":\"https://www.kickstarter.com...</td>\n",
       "      <td>14166.00</td>\n",
       "      <td>international</td>\n",
       "    </tr>\n",
       "    <tr>\n",
       "      <th>1</th>\n",
       "      <td>3</td>\n",
       "      <td>Be a part of Street Art Magic and have a hand ...</td>\n",
       "      <td>{\"id\":53,\"name\":\"Public Art\",\"slug\":\"art/publi...</td>\n",
       "      <td>42</td>\n",
       "      <td>US</td>\n",
       "      <td>1390444485</td>\n",
       "      <td>{\"id\":1960090658,\"name\":\"Inman E. Goodman III\"...</td>\n",
       "      <td>USD</td>\n",
       "      <td>$</td>\n",
       "      <td>True</td>\n",
       "      <td>...</td>\n",
       "      <td>zone-7-street-arts-initiative</td>\n",
       "      <td>https://www.kickstarter.com/discover/categorie...</td>\n",
       "      <td>False</td>\n",
       "      <td>False</td>\n",
       "      <td>failed</td>\n",
       "      <td>1392323039</td>\n",
       "      <td>1.0</td>\n",
       "      <td>{\"web\":{\"project\":\"https://www.kickstarter.com...</td>\n",
       "      <td>42.00</td>\n",
       "      <td>international</td>\n",
       "    </tr>\n",
       "    <tr>\n",
       "      <th>2</th>\n",
       "      <td>31</td>\n",
       "      <td>My writing changed after my daughter was kille...</td>\n",
       "      <td>{\"id\":359,\"name\":\"Print\",\"slug\":\"journalism/pr...</td>\n",
       "      <td>1127</td>\n",
       "      <td>US</td>\n",
       "      <td>1404688773</td>\n",
       "      <td>{\"id\":2049496016,\"name\":\"Diane Neas\",\"is_regis...</td>\n",
       "      <td>USD</td>\n",
       "      <td>$</td>\n",
       "      <td>True</td>\n",
       "      <td>...</td>\n",
       "      <td>loving-becca-journey-of-child-loss</td>\n",
       "      <td>https://www.kickstarter.com/discover/categorie...</td>\n",
       "      <td>True</td>\n",
       "      <td>False</td>\n",
       "      <td>successful</td>\n",
       "      <td>1407702831</td>\n",
       "      <td>1.0</td>\n",
       "      <td>{\"web\":{\"project\":\"https://www.kickstarter.com...</td>\n",
       "      <td>1127.00</td>\n",
       "      <td>international</td>\n",
       "    </tr>\n",
       "    <tr>\n",
       "      <th>3</th>\n",
       "      <td>4</td>\n",
       "      <td>The Sweet Botanist's natural syrups are made s...</td>\n",
       "      <td>{\"id\":307,\"name\":\"Drinks\",\"slug\":\"food/drinks\"...</td>\n",
       "      <td>105</td>\n",
       "      <td>US</td>\n",
       "      <td>1464156479</td>\n",
       "      <td>{\"id\":1723204437,\"name\":\"Amber M.\",\"is_registe...</td>\n",
       "      <td>USD</td>\n",
       "      <td>$</td>\n",
       "      <td>True</td>\n",
       "      <td>...</td>\n",
       "      <td>the-sweet-botanist-syrup-co</td>\n",
       "      <td>https://www.kickstarter.com/discover/categorie...</td>\n",
       "      <td>False</td>\n",
       "      <td>False</td>\n",
       "      <td>failed</td>\n",
       "      <td>1466802580</td>\n",
       "      <td>1.0</td>\n",
       "      <td>{\"web\":{\"project\":\"https://www.kickstarter.com...</td>\n",
       "      <td>105.00</td>\n",
       "      <td>international</td>\n",
       "    </tr>\n",
       "    <tr>\n",
       "      <th>4</th>\n",
       "      <td>800</td>\n",
       "      <td>The digital restoration of the classic 1968 Ro...</td>\n",
       "      <td>{\"id\":30,\"name\":\"Documentary\",\"slug\":\"film &amp; v...</td>\n",
       "      <td>28720</td>\n",
       "      <td>US</td>\n",
       "      <td>1331149074</td>\n",
       "      <td>{\"id\":1765735821,\"name\":\"Fred Padula\",\"is_regi...</td>\n",
       "      <td>USD</td>\n",
       "      <td>$</td>\n",
       "      <td>True</td>\n",
       "      <td>...</td>\n",
       "      <td>el-capitan-film-restoration</td>\n",
       "      <td>https://www.kickstarter.com/discover/categorie...</td>\n",
       "      <td>True</td>\n",
       "      <td>False</td>\n",
       "      <td>successful</td>\n",
       "      <td>1351739753</td>\n",
       "      <td>1.0</td>\n",
       "      <td>{\"web\":{\"project\":\"https://www.kickstarter.com...</td>\n",
       "      <td>28720.42</td>\n",
       "      <td>international</td>\n",
       "    </tr>\n",
       "  </tbody>\n",
       "</table>\n",
       "<p>5 rows × 37 columns</p>\n",
       "</div>"
      ],
      "text/plain": [
       "   backers_count                                              blurb  \\\n",
       "0            210  Believing Heart Tarot is a one of a kind addit...   \n",
       "1              3  Be a part of Street Art Magic and have a hand ...   \n",
       "2             31  My writing changed after my daughter was kille...   \n",
       "3              4  The Sweet Botanist's natural syrups are made s...   \n",
       "4            800  The digital restoration of the classic 1968 Ro...   \n",
       "\n",
       "                                            category  \\\n",
       "0  {\"id\":21,\"name\":\"Digital Art\",\"slug\":\"art/digi...   \n",
       "1  {\"id\":53,\"name\":\"Public Art\",\"slug\":\"art/publi...   \n",
       "2  {\"id\":359,\"name\":\"Print\",\"slug\":\"journalism/pr...   \n",
       "3  {\"id\":307,\"name\":\"Drinks\",\"slug\":\"food/drinks\"...   \n",
       "4  {\"id\":30,\"name\":\"Documentary\",\"slug\":\"film & v...   \n",
       "\n",
       "   converted_pledged_amount country  created_at  \\\n",
       "0                     14166      US  1513372142   \n",
       "1                        42      US  1390444485   \n",
       "2                      1127      US  1404688773   \n",
       "3                       105      US  1464156479   \n",
       "4                     28720      US  1331149074   \n",
       "\n",
       "                                             creator currency currency_symbol  \\\n",
       "0  {\"id\":1647802423,\"name\":\"Catstealers-Zines\",\"s...      USD               $   \n",
       "1  {\"id\":1960090658,\"name\":\"Inman E. Goodman III\"...      USD               $   \n",
       "2  {\"id\":2049496016,\"name\":\"Diane Neas\",\"is_regis...      USD               $   \n",
       "3  {\"id\":1723204437,\"name\":\"Amber M.\",\"is_registe...      USD               $   \n",
       "4  {\"id\":1765735821,\"name\":\"Fred Padula\",\"is_regi...      USD               $   \n",
       "\n",
       "   currency_trailing_code  ...                                slug  \\\n",
       "0                    True  ...          believing-heart-tarot-deck   \n",
       "1                    True  ...       zone-7-street-arts-initiative   \n",
       "2                    True  ...  loving-becca-journey-of-child-loss   \n",
       "3                    True  ...         the-sweet-botanist-syrup-co   \n",
       "4                    True  ...         el-capitan-film-restoration   \n",
       "\n",
       "                                          source_url  spotlight staff_pick  \\\n",
       "0  https://www.kickstarter.com/discover/categorie...       True      False   \n",
       "1  https://www.kickstarter.com/discover/categorie...      False      False   \n",
       "2  https://www.kickstarter.com/discover/categorie...       True      False   \n",
       "3  https://www.kickstarter.com/discover/categorie...      False      False   \n",
       "4  https://www.kickstarter.com/discover/categorie...       True      False   \n",
       "\n",
       "        state  state_changed_at  static_usd_rate  \\\n",
       "0  successful        1522555142              1.0   \n",
       "1      failed        1392323039              1.0   \n",
       "2  successful        1407702831              1.0   \n",
       "3      failed        1466802580              1.0   \n",
       "4  successful        1351739753              1.0   \n",
       "\n",
       "                                                urls  usd_pledged  \\\n",
       "0  {\"web\":{\"project\":\"https://www.kickstarter.com...     14166.00   \n",
       "1  {\"web\":{\"project\":\"https://www.kickstarter.com...        42.00   \n",
       "2  {\"web\":{\"project\":\"https://www.kickstarter.com...      1127.00   \n",
       "3  {\"web\":{\"project\":\"https://www.kickstarter.com...       105.00   \n",
       "4  {\"web\":{\"project\":\"https://www.kickstarter.com...     28720.42   \n",
       "\n",
       "        usd_type  \n",
       "0  international  \n",
       "1  international  \n",
       "2  international  \n",
       "3  international  \n",
       "4  international  \n",
       "\n",
       "[5 rows x 37 columns]"
      ]
     },
     "execution_count": 3,
     "metadata": {},
     "output_type": "execute_result"
    }
   ],
   "source": [
    "df = pd.read_csv(\"Kickstarter_Complete.csv\")\n",
    "\n",
    "df.head()"
   ]
  },
  {
   "cell_type": "code",
   "execution_count": 4,
   "id": "02d3be97",
   "metadata": {},
   "outputs": [
    {
     "data": {
      "text/plain": [
       "backers_count                 int64\n",
       "blurb                        object\n",
       "category                     object\n",
       "converted_pledged_amount      int64\n",
       "country                      object\n",
       "created_at                    int64\n",
       "creator                      object\n",
       "currency                     object\n",
       "currency_symbol              object\n",
       "currency_trailing_code         bool\n",
       "current_currency             object\n",
       "deadline                      int64\n",
       "disable_communication          bool\n",
       "friends                      object\n",
       "fx_rate                     float64\n",
       "goal                        float64\n",
       "id                            int64\n",
       "is_backing                   object\n",
       "is_starrable                   bool\n",
       "is_starred                   object\n",
       "launched_at                   int64\n",
       "location                     object\n",
       "name                         object\n",
       "permissions                  object\n",
       "photo                        object\n",
       "pledged                     float64\n",
       "profile                      object\n",
       "slug                         object\n",
       "source_url                   object\n",
       "spotlight                      bool\n",
       "staff_pick                     bool\n",
       "state                        object\n",
       "state_changed_at              int64\n",
       "static_usd_rate             float64\n",
       "urls                         object\n",
       "usd_pledged                 float64\n",
       "usd_type                     object\n",
       "dtype: object"
      ]
     },
     "execution_count": 4,
     "metadata": {},
     "output_type": "execute_result"
    }
   ],
   "source": [
    "df.dtypes"
   ]
  },
  {
   "cell_type": "markdown",
   "id": "ba28c81b-ef50-42e3-bbf0-3a9567f3c781",
   "metadata": {},
   "source": [
    "Let's check if there are some duplicates of the projects."
   ]
  },
  {
   "cell_type": "markdown",
   "id": "0fc5bfdd",
   "metadata": {},
   "source": [
    "## Data Cleaning"
   ]
  },
  {
   "cell_type": "markdown",
   "id": "479e5086-27ef-4eff-a972-9f2ebd7c4dbc",
   "metadata": {},
   "source": [
    "#### Columns to delete."
   ]
  },
  {
   "cell_type": "markdown",
   "id": "0eeb7186-bbd1-4d5a-873c-d9d6067356aa",
   "metadata": {},
   "source": [
    "We decided to delete the following columns as they are not useful for our analysis: currency_symbol, id, photo, permissions(276), friends(274), source_url, is_backing (276), is_starred (276). "
   ]
  },
  {
   "cell_type": "code",
   "execution_count": 5,
   "id": "bd373d89-59b3-423b-913f-66d694beb481",
   "metadata": {},
   "outputs": [],
   "source": [
    "del df['currency_symbol']\n",
    "del df['id']\n",
    "del df['photo']\n",
    "del df['permissions']\n",
    "del df['friends']\n",
    "del df['source_url']\n",
    "del df['is_backing']\n",
    "del df['is_starred']"
   ]
  },
  {
   "cell_type": "markdown",
   "id": "a0a6acdf-937d-48e3-83b1-745dda3cc557",
   "metadata": {},
   "source": [
    "#### Rename backers_count into nr_backers.\n",
    "backers_count shows the number of backers for that project."
   ]
  },
  {
   "cell_type": "code",
   "execution_count": 6,
   "id": "6c087ab5-65c7-4a35-8ece-c7f6063abeea",
   "metadata": {},
   "outputs": [],
   "source": [
    "df=df.rename(columns={\"backers_count\":\"nr_backers\"})"
   ]
  },
  {
   "cell_type": "markdown",
   "id": "94f6ca2d-4659-4023-8e4f-860ee1b74a4e",
   "metadata": {},
   "source": [
    "#### Create 3 new columns from the category column: category, subcategory and category_id."
   ]
  },
  {
   "cell_type": "code",
   "execution_count": 7,
   "id": "cc68f340-18c4-4add-afd5-c90d5918f9c4",
   "metadata": {},
   "outputs": [],
   "source": [
    "df=df.rename(columns={\"category\":\"Category\"})"
   ]
  },
  {
   "cell_type": "code",
   "execution_count": 8,
   "id": "8c98fd41-3c52-4de2-ac15-ade398163d6a",
   "metadata": {},
   "outputs": [],
   "source": [
    "df['category'] = df['Category'].apply(lambda x: x.split('\"slug\":\"')[1].split('/')[0])\n",
    "df['category'] = df['category'].apply(lambda x: x.split('\"')[0])\n",
    "df['subcategory'] = df['Category'].apply(lambda x: x.split('\"name\":\"')[1].split('\"')[0])\n",
    "df['subcategory_id'] = df['Category'].apply(lambda x: x.split('\"id\":')[1].split(',')[0])"
   ]
  },
  {
   "cell_type": "code",
   "execution_count": 9,
   "id": "9034b2af-d08a-47ac-a7c2-d76cb46a8003",
   "metadata": {},
   "outputs": [],
   "source": [
    "del df['Category']"
   ]
  },
  {
   "cell_type": "markdown",
   "id": "6e69e0c4-6dae-4b3d-99f8-fb6c066a1e7d",
   "metadata": {},
   "source": [
    "#### Modify the date time columns."
   ]
  },
  {
   "cell_type": "code",
   "execution_count": 10,
   "id": "4e985b17-300c-4909-b11e-6f49c731bf5f",
   "metadata": {},
   "outputs": [],
   "source": [
    "df['created_at'] = pd.to_datetime(df['created_at'], unit=\"s\").dt.date\n",
    "df['state_changed_at'] = pd.to_datetime(df['state_changed_at'], unit=\"s\").dt.date\n",
    "df['deadline'] = pd.to_datetime(df['deadline'], unit=\"s\").dt.date\n",
    "df['launched_at'] = pd.to_datetime(df['launched_at'], unit=\"s\").dt.date"
   ]
  },
  {
   "cell_type": "code",
   "execution_count": 11,
   "id": "b544f601-bda3-4d35-b08b-53a5773f6f30",
   "metadata": {},
   "outputs": [
    {
     "data": {
      "text/html": [
       "<div>\n",
       "<style scoped>\n",
       "    .dataframe tbody tr th:only-of-type {\n",
       "        vertical-align: middle;\n",
       "    }\n",
       "\n",
       "    .dataframe tbody tr th {\n",
       "        vertical-align: top;\n",
       "    }\n",
       "\n",
       "    .dataframe thead th {\n",
       "        text-align: right;\n",
       "    }\n",
       "</style>\n",
       "<table border=\"1\" class=\"dataframe\">\n",
       "  <thead>\n",
       "    <tr style=\"text-align: right;\">\n",
       "      <th></th>\n",
       "      <th>nr_backers</th>\n",
       "      <th>blurb</th>\n",
       "      <th>converted_pledged_amount</th>\n",
       "      <th>country</th>\n",
       "      <th>created_at</th>\n",
       "      <th>creator</th>\n",
       "      <th>currency</th>\n",
       "      <th>currency_trailing_code</th>\n",
       "      <th>current_currency</th>\n",
       "      <th>deadline</th>\n",
       "      <th>...</th>\n",
       "      <th>staff_pick</th>\n",
       "      <th>state</th>\n",
       "      <th>state_changed_at</th>\n",
       "      <th>static_usd_rate</th>\n",
       "      <th>urls</th>\n",
       "      <th>usd_pledged</th>\n",
       "      <th>usd_type</th>\n",
       "      <th>category</th>\n",
       "      <th>subcategory</th>\n",
       "      <th>subcategory_id</th>\n",
       "    </tr>\n",
       "  </thead>\n",
       "  <tbody>\n",
       "    <tr>\n",
       "      <th>0</th>\n",
       "      <td>210</td>\n",
       "      <td>Believing Heart Tarot is a one of a kind addit...</td>\n",
       "      <td>14166</td>\n",
       "      <td>US</td>\n",
       "      <td>2017-12-15</td>\n",
       "      <td>{\"id\":1647802423,\"name\":\"Catstealers-Zines\",\"s...</td>\n",
       "      <td>USD</td>\n",
       "      <td>True</td>\n",
       "      <td>USD</td>\n",
       "      <td>2018-04-01</td>\n",
       "      <td>...</td>\n",
       "      <td>False</td>\n",
       "      <td>successful</td>\n",
       "      <td>2018-04-01</td>\n",
       "      <td>1.0</td>\n",
       "      <td>{\"web\":{\"project\":\"https://www.kickstarter.com...</td>\n",
       "      <td>14166.00</td>\n",
       "      <td>international</td>\n",
       "      <td>art</td>\n",
       "      <td>Digital Art</td>\n",
       "      <td>21</td>\n",
       "    </tr>\n",
       "    <tr>\n",
       "      <th>1</th>\n",
       "      <td>3</td>\n",
       "      <td>Be a part of Street Art Magic and have a hand ...</td>\n",
       "      <td>42</td>\n",
       "      <td>US</td>\n",
       "      <td>2014-01-23</td>\n",
       "      <td>{\"id\":1960090658,\"name\":\"Inman E. Goodman III\"...</td>\n",
       "      <td>USD</td>\n",
       "      <td>True</td>\n",
       "      <td>USD</td>\n",
       "      <td>2014-02-13</td>\n",
       "      <td>...</td>\n",
       "      <td>False</td>\n",
       "      <td>failed</td>\n",
       "      <td>2014-02-13</td>\n",
       "      <td>1.0</td>\n",
       "      <td>{\"web\":{\"project\":\"https://www.kickstarter.com...</td>\n",
       "      <td>42.00</td>\n",
       "      <td>international</td>\n",
       "      <td>art</td>\n",
       "      <td>Public Art</td>\n",
       "      <td>53</td>\n",
       "    </tr>\n",
       "    <tr>\n",
       "      <th>2</th>\n",
       "      <td>31</td>\n",
       "      <td>My writing changed after my daughter was kille...</td>\n",
       "      <td>1127</td>\n",
       "      <td>US</td>\n",
       "      <td>2014-07-06</td>\n",
       "      <td>{\"id\":2049496016,\"name\":\"Diane Neas\",\"is_regis...</td>\n",
       "      <td>USD</td>\n",
       "      <td>True</td>\n",
       "      <td>USD</td>\n",
       "      <td>2014-08-10</td>\n",
       "      <td>...</td>\n",
       "      <td>False</td>\n",
       "      <td>successful</td>\n",
       "      <td>2014-08-10</td>\n",
       "      <td>1.0</td>\n",
       "      <td>{\"web\":{\"project\":\"https://www.kickstarter.com...</td>\n",
       "      <td>1127.00</td>\n",
       "      <td>international</td>\n",
       "      <td>journalism</td>\n",
       "      <td>Print</td>\n",
       "      <td>359</td>\n",
       "    </tr>\n",
       "    <tr>\n",
       "      <th>3</th>\n",
       "      <td>4</td>\n",
       "      <td>The Sweet Botanist's natural syrups are made s...</td>\n",
       "      <td>105</td>\n",
       "      <td>US</td>\n",
       "      <td>2016-05-25</td>\n",
       "      <td>{\"id\":1723204437,\"name\":\"Amber M.\",\"is_registe...</td>\n",
       "      <td>USD</td>\n",
       "      <td>True</td>\n",
       "      <td>USD</td>\n",
       "      <td>2016-06-24</td>\n",
       "      <td>...</td>\n",
       "      <td>False</td>\n",
       "      <td>failed</td>\n",
       "      <td>2016-06-24</td>\n",
       "      <td>1.0</td>\n",
       "      <td>{\"web\":{\"project\":\"https://www.kickstarter.com...</td>\n",
       "      <td>105.00</td>\n",
       "      <td>international</td>\n",
       "      <td>food</td>\n",
       "      <td>Drinks</td>\n",
       "      <td>307</td>\n",
       "    </tr>\n",
       "    <tr>\n",
       "      <th>4</th>\n",
       "      <td>800</td>\n",
       "      <td>The digital restoration of the classic 1968 Ro...</td>\n",
       "      <td>28720</td>\n",
       "      <td>US</td>\n",
       "      <td>2012-03-07</td>\n",
       "      <td>{\"id\":1765735821,\"name\":\"Fred Padula\",\"is_regi...</td>\n",
       "      <td>USD</td>\n",
       "      <td>True</td>\n",
       "      <td>USD</td>\n",
       "      <td>2012-11-01</td>\n",
       "      <td>...</td>\n",
       "      <td>False</td>\n",
       "      <td>successful</td>\n",
       "      <td>2012-11-01</td>\n",
       "      <td>1.0</td>\n",
       "      <td>{\"web\":{\"project\":\"https://www.kickstarter.com...</td>\n",
       "      <td>28720.42</td>\n",
       "      <td>international</td>\n",
       "      <td>film &amp; video</td>\n",
       "      <td>Documentary</td>\n",
       "      <td>30</td>\n",
       "    </tr>\n",
       "  </tbody>\n",
       "</table>\n",
       "<p>5 rows × 31 columns</p>\n",
       "</div>"
      ],
      "text/plain": [
       "   nr_backers                                              blurb  \\\n",
       "0         210  Believing Heart Tarot is a one of a kind addit...   \n",
       "1           3  Be a part of Street Art Magic and have a hand ...   \n",
       "2          31  My writing changed after my daughter was kille...   \n",
       "3           4  The Sweet Botanist's natural syrups are made s...   \n",
       "4         800  The digital restoration of the classic 1968 Ro...   \n",
       "\n",
       "   converted_pledged_amount country  created_at  \\\n",
       "0                     14166      US  2017-12-15   \n",
       "1                        42      US  2014-01-23   \n",
       "2                      1127      US  2014-07-06   \n",
       "3                       105      US  2016-05-25   \n",
       "4                     28720      US  2012-03-07   \n",
       "\n",
       "                                             creator currency  \\\n",
       "0  {\"id\":1647802423,\"name\":\"Catstealers-Zines\",\"s...      USD   \n",
       "1  {\"id\":1960090658,\"name\":\"Inman E. Goodman III\"...      USD   \n",
       "2  {\"id\":2049496016,\"name\":\"Diane Neas\",\"is_regis...      USD   \n",
       "3  {\"id\":1723204437,\"name\":\"Amber M.\",\"is_registe...      USD   \n",
       "4  {\"id\":1765735821,\"name\":\"Fred Padula\",\"is_regi...      USD   \n",
       "\n",
       "   currency_trailing_code current_currency    deadline  ...  staff_pick  \\\n",
       "0                    True              USD  2018-04-01  ...       False   \n",
       "1                    True              USD  2014-02-13  ...       False   \n",
       "2                    True              USD  2014-08-10  ...       False   \n",
       "3                    True              USD  2016-06-24  ...       False   \n",
       "4                    True              USD  2012-11-01  ...       False   \n",
       "\n",
       "        state  state_changed_at  static_usd_rate  \\\n",
       "0  successful        2018-04-01              1.0   \n",
       "1      failed        2014-02-13              1.0   \n",
       "2  successful        2014-08-10              1.0   \n",
       "3      failed        2016-06-24              1.0   \n",
       "4  successful        2012-11-01              1.0   \n",
       "\n",
       "                                                urls usd_pledged  \\\n",
       "0  {\"web\":{\"project\":\"https://www.kickstarter.com...    14166.00   \n",
       "1  {\"web\":{\"project\":\"https://www.kickstarter.com...       42.00   \n",
       "2  {\"web\":{\"project\":\"https://www.kickstarter.com...     1127.00   \n",
       "3  {\"web\":{\"project\":\"https://www.kickstarter.com...      105.00   \n",
       "4  {\"web\":{\"project\":\"https://www.kickstarter.com...    28720.42   \n",
       "\n",
       "        usd_type      category  subcategory subcategory_id  \n",
       "0  international           art  Digital Art             21  \n",
       "1  international           art   Public Art             53  \n",
       "2  international    journalism        Print            359  \n",
       "3  international          food       Drinks            307  \n",
       "4  international  film & video  Documentary             30  \n",
       "\n",
       "[5 rows x 31 columns]"
      ]
     },
     "execution_count": 11,
     "metadata": {},
     "output_type": "execute_result"
    }
   ],
   "source": [
    "df.head()"
   ]
  },
  {
   "cell_type": "markdown",
   "id": "1aa354f6-7e0b-42cf-8151-99a76da5ba63",
   "metadata": {},
   "source": [
    "The timeframe in which this projects have been created is:"
   ]
  },
  {
   "cell_type": "code",
   "execution_count": 12,
   "id": "98e62d07-dcda-4f53-a5f6-61910ae2f36f",
   "metadata": {},
   "outputs": [
    {
     "name": "stdout",
     "output_type": "stream",
     "text": [
      "Between 21 April 2009 and 18 October 2018.\n"
     ]
    }
   ],
   "source": [
    "print(f\"Between {min(df.created_at).strftime('%d %B %Y')} and {max(df.created_at).strftime('%d %B %Y')}.\")"
   ]
  },
  {
   "cell_type": "markdown",
   "id": "5bf54fe8-232f-4b14-a27e-6630ac2b23b5",
   "metadata": {},
   "source": [
    "#### Create 4 new columns from the creator one: creator_id, creator_name, is_registered."
   ]
  },
  {
   "cell_type": "code",
   "execution_count": 13,
   "id": "3d976407-2814-4ace-a610-4ade6fe12042",
   "metadata": {},
   "outputs": [],
   "source": [
    "df['creator_id'] = df['creator'].apply(lambda x: x.split('\"id\":')[1].split(',')[0])\n",
    "df['creator_name'] = df['creator'].apply(lambda x: x.split('\"name\":\"')[1].split('\"')[0])\n",
    "df['is_creator_registered'] = df['creator'].apply(lambda x: x.split('\"is_registered\":')[1].split(',')[0])"
   ]
  },
  {
   "cell_type": "code",
   "execution_count": 14,
   "id": "e63d60e1-c393-409c-98d6-1db56af60ba1",
   "metadata": {},
   "outputs": [],
   "source": [
    "del df['creator']"
   ]
  },
  {
   "cell_type": "markdown",
   "id": "a08572bc-d9a9-4c06-8db1-b34d9f575e04",
   "metadata": {},
   "source": [
    "#### Create 2 new columns from the location one: city and state."
   ]
  },
  {
   "cell_type": "code",
   "execution_count": 15,
   "id": "d02fa66d-5b2f-4714-bfef-7b3a19308bb7",
   "metadata": {},
   "outputs": [],
   "source": [
    "df['nation'] = df['location'].astype(str).apply(lambda x: x.split('\"state\":\"')[1].split('\"')[0] if len(x.split('\"state\":\"'))>1 else x.split('-')[0])\n",
    "df['city'] = df['location'].astype(str).apply(lambda x: x.split('\"name\":\"')[1].split('\"')[0] if len(x.split('\"name\":\"'))>1 else x.split('-')[0])"
   ]
  },
  {
   "cell_type": "code",
   "execution_count": 16,
   "id": "bd51846d-cdce-4d56-824d-1da8ae9bb043",
   "metadata": {},
   "outputs": [],
   "source": [
    "del df['location']"
   ]
  },
  {
   "cell_type": "markdown",
   "id": "3cc7c40c-251a-49f9-ab13-407af2a6731c",
   "metadata": {},
   "source": [
    "#### Create 2 columns from the profile one: project_id and project_status."
   ]
  },
  {
   "cell_type": "code",
   "execution_count": 17,
   "id": "784661e6-4374-4a5b-b1c4-fc92904d3a73",
   "metadata": {},
   "outputs": [],
   "source": [
    "df['project_id'] = df['profile'].apply(lambda x: x.split('\"id\":')[1].split(',')[0])\n",
    "df['project_status'] = df['profile'].apply(lambda x: x.split('\"state\":\"')[1].split('\"')[0])"
   ]
  },
  {
   "cell_type": "code",
   "execution_count": 18,
   "id": "b58c53e1-b723-4ba0-b972-358472dc4d28",
   "metadata": {},
   "outputs": [],
   "source": [
    "del df['profile']"
   ]
  },
  {
   "cell_type": "markdown",
   "id": "69e28ad9-a5ca-4325-a61b-346a7108a2cd",
   "metadata": {},
   "source": [
    "#### Modify the urls column."
   ]
  },
  {
   "cell_type": "code",
   "execution_count": 19,
   "id": "216ca43f-e4fc-4b6e-9a8e-d92a9b878b1a",
   "metadata": {},
   "outputs": [],
   "source": [
    "df['url'] = df['urls'].apply(lambda x: x.split('\"project\":\"')[1].split('\"')[0])"
   ]
  },
  {
   "cell_type": "code",
   "execution_count": 20,
   "id": "0831d8a1-c490-4506-81d6-bedbe0d5c3e1",
   "metadata": {},
   "outputs": [],
   "source": [
    "del df['urls']"
   ]
  },
  {
   "cell_type": "markdown",
   "id": "cd544308-5efb-4425-a90a-91a61ece7d40",
   "metadata": {},
   "source": [
    "#### Converting the goal in USD."
   ]
  },
  {
   "cell_type": "code",
   "execution_count": 21,
   "id": "8c4c9a4b-64e0-4b3f-b077-feabb43211d2",
   "metadata": {},
   "outputs": [],
   "source": [
    "df['usd_goal'] = round(df['goal'] * df['static_usd_rate'],2)"
   ]
  },
  {
   "cell_type": "markdown",
   "id": "7fc121ac-24eb-4258-98f4-203eac6123b4",
   "metadata": {},
   "source": [
    "Given that we have a new column with the goal of all projects in USD we can drop these two columns:"
   ]
  },
  {
   "cell_type": "code",
   "execution_count": 22,
   "id": "62e6dca3-1fff-4f27-be30-f45ae9b31478",
   "metadata": {},
   "outputs": [],
   "source": [
    "del df['goal']\n",
    "del df['static_usd_rate']"
   ]
  },
  {
   "cell_type": "markdown",
   "id": "e5c55c3f-3af5-4727-ae6a-0afcbfa1d9a4",
   "metadata": {},
   "source": [
    "#### Dropping duplicates"
   ]
  },
  {
   "cell_type": "code",
   "execution_count": 23,
   "id": "10913e51-d021-498a-b9b3-de83aa4dd5da",
   "metadata": {},
   "outputs": [],
   "source": [
    "df.drop_duplicates(inplace=True)"
   ]
  },
  {
   "cell_type": "markdown",
   "id": "d96e9162-12fd-4747-9a0a-2e50b238a3de",
   "metadata": {},
   "source": [
    "#### Ordering the columns."
   ]
  },
  {
   "cell_type": "code",
   "execution_count": 24,
   "id": "b6983f3c-597f-4b9d-8e6e-0d448f9d1d6a",
   "metadata": {},
   "outputs": [],
   "source": [
    "df = df[['project_id', 'state', 'name', 'slug', 'blurb', 'url', 'category', 'subcategory','subcategory_id', \n",
    "         'creator_id', 'creator_name', 'is_creator_registered', 'country', 'nation', 'city', 'created_at', \n",
    "         'launched_at','deadline', 'nr_backers', 'usd_goal', 'pledged', 'currency', 'usd_pledged', 'current_currency', \n",
    "         'fx_rate', 'currency_trailing_code', 'usd_type', 'project_status', 'state_changed_at',  \n",
    "         'disable_communication', 'is_starrable', 'spotlight', 'staff_pick' ]]"
   ]
  },
  {
   "cell_type": "code",
   "execution_count": 25,
   "id": "9eb5c64e-ca8d-4847-9a2d-55b74efc53eb",
   "metadata": {},
   "outputs": [],
   "source": [
    "df.set_index('project_id', inplace=True)"
   ]
  },
  {
   "cell_type": "code",
   "execution_count": 26,
   "id": "4b98d508-1957-4c1a-ba34-028a2cd1e052",
   "metadata": {},
   "outputs": [],
   "source": [
    "df.to_csv(\"Cleaned_Kickstarter.csv\", index = False)"
   ]
  },
  {
   "cell_type": "markdown",
   "id": "c1557627-681d-4a71-98b3-72894a757886",
   "metadata": {},
   "source": [
    "#### Feature Engineering"
   ]
  },
  {
   "cell_type": "code",
   "execution_count": 27,
   "id": "43452911-2785-48cf-9e0e-c0d46c74c321",
   "metadata": {},
   "outputs": [],
   "source": [
    "#Campaign length — number of days from launch to deadline: DEADLINE - LAUNCH DATE\n",
    "\n",
    "#Number of days from page creation to project launch: LAUNCH DATE - CREATION DATE\n",
    "\n",
    "#Name: Word length\n",
    "df['name_len'] = df['name'].str.split().str.len()\n",
    "\n",
    "#Blurb: Word length\n",
    "df['blurb_len'] = df['blurb'].str.split().str.len()\n",
    "\n",
    "#Average pledge per backer\n",
    "df['pledge_per_backer'] = round(df['usd_pledged']/df['nr_backers'],2)\n",
    "\n",
    "# Launch day of week\n",
    "#df['launch_day'] = df['launched_at'].dt.weekday_name\n",
    "\n",
    "# Deadline day of week\n",
    "#df['deadline_day'] = df['deadline'].dt.weekday_name"
   ]
  },
  {
   "cell_type": "code",
   "execution_count": 28,
   "id": "118d2273-ff40-479e-a53f-aba4dc7db2e6",
   "metadata": {},
   "outputs": [
    {
     "data": {
      "text/html": [
       "<div>\n",
       "<style scoped>\n",
       "    .dataframe tbody tr th:only-of-type {\n",
       "        vertical-align: middle;\n",
       "    }\n",
       "\n",
       "    .dataframe tbody tr th {\n",
       "        vertical-align: top;\n",
       "    }\n",
       "\n",
       "    .dataframe thead th {\n",
       "        text-align: right;\n",
       "    }\n",
       "</style>\n",
       "<table border=\"1\" class=\"dataframe\">\n",
       "  <thead>\n",
       "    <tr style=\"text-align: right;\">\n",
       "      <th></th>\n",
       "      <th>state</th>\n",
       "      <th>name</th>\n",
       "      <th>slug</th>\n",
       "      <th>blurb</th>\n",
       "      <th>url</th>\n",
       "      <th>category</th>\n",
       "      <th>subcategory</th>\n",
       "      <th>subcategory_id</th>\n",
       "      <th>creator_id</th>\n",
       "      <th>creator_name</th>\n",
       "      <th>...</th>\n",
       "      <th>usd_type</th>\n",
       "      <th>project_status</th>\n",
       "      <th>state_changed_at</th>\n",
       "      <th>disable_communication</th>\n",
       "      <th>is_starrable</th>\n",
       "      <th>spotlight</th>\n",
       "      <th>staff_pick</th>\n",
       "      <th>name_len</th>\n",
       "      <th>blurb_len</th>\n",
       "      <th>pledge_per_backer</th>\n",
       "    </tr>\n",
       "    <tr>\n",
       "      <th>project_id</th>\n",
       "      <th></th>\n",
       "      <th></th>\n",
       "      <th></th>\n",
       "      <th></th>\n",
       "      <th></th>\n",
       "      <th></th>\n",
       "      <th></th>\n",
       "      <th></th>\n",
       "      <th></th>\n",
       "      <th></th>\n",
       "      <th></th>\n",
       "      <th></th>\n",
       "      <th></th>\n",
       "      <th></th>\n",
       "      <th></th>\n",
       "      <th></th>\n",
       "      <th></th>\n",
       "      <th></th>\n",
       "      <th></th>\n",
       "      <th></th>\n",
       "      <th></th>\n",
       "    </tr>\n",
       "  </thead>\n",
       "  <tbody>\n",
       "    <tr>\n",
       "      <th>3251221</th>\n",
       "      <td>successful</td>\n",
       "      <td>Believing Heart Tarot Deck</td>\n",
       "      <td>believing-heart-tarot-deck</td>\n",
       "      <td>Believing Heart Tarot is a one of a kind addit...</td>\n",
       "      <td>https://www.kickstarter.com/projects/catsteale...</td>\n",
       "      <td>art</td>\n",
       "      <td>Digital Art</td>\n",
       "      <td>21</td>\n",
       "      <td>1647802423</td>\n",
       "      <td>Catstealers-Zines</td>\n",
       "      <td>...</td>\n",
       "      <td>international</td>\n",
       "      <td>active</td>\n",
       "      <td>2018-04-01</td>\n",
       "      <td>False</td>\n",
       "      <td>False</td>\n",
       "      <td>True</td>\n",
       "      <td>False</td>\n",
       "      <td>4.0</td>\n",
       "      <td>25.0</td>\n",
       "      <td>67.46</td>\n",
       "    </tr>\n",
       "    <tr>\n",
       "      <th>860485</th>\n",
       "      <td>failed</td>\n",
       "      <td>Zone 7 Street Arts Initiative</td>\n",
       "      <td>zone-7-street-arts-initiative</td>\n",
       "      <td>Be a part of Street Art Magic and have a hand ...</td>\n",
       "      <td>https://www.kickstarter.com/projects/196009065...</td>\n",
       "      <td>art</td>\n",
       "      <td>Public Art</td>\n",
       "      <td>53</td>\n",
       "      <td>1960090658</td>\n",
       "      <td>Inman E. Goodman III</td>\n",
       "      <td>...</td>\n",
       "      <td>international</td>\n",
       "      <td>inactive</td>\n",
       "      <td>2014-02-13</td>\n",
       "      <td>False</td>\n",
       "      <td>False</td>\n",
       "      <td>False</td>\n",
       "      <td>False</td>\n",
       "      <td>5.0</td>\n",
       "      <td>23.0</td>\n",
       "      <td>14.00</td>\n",
       "    </tr>\n",
       "    <tr>\n",
       "      <th>1102377</th>\n",
       "      <td>successful</td>\n",
       "      <td>Loving Becca ~ Journey of Child Loss</td>\n",
       "      <td>loving-becca-journey-of-child-loss</td>\n",
       "      <td>My writing changed after my daughter was kille...</td>\n",
       "      <td>https://www.kickstarter.com/projects/204949601...</td>\n",
       "      <td>journalism</td>\n",
       "      <td>Print</td>\n",
       "      <td>359</td>\n",
       "      <td>2049496016</td>\n",
       "      <td>Diane Neas</td>\n",
       "      <td>...</td>\n",
       "      <td>international</td>\n",
       "      <td>inactive</td>\n",
       "      <td>2014-08-10</td>\n",
       "      <td>False</td>\n",
       "      <td>False</td>\n",
       "      <td>True</td>\n",
       "      <td>False</td>\n",
       "      <td>7.0</td>\n",
       "      <td>26.0</td>\n",
       "      <td>36.35</td>\n",
       "    </tr>\n",
       "    <tr>\n",
       "      <th>2531031</th>\n",
       "      <td>failed</td>\n",
       "      <td>Sweet Botanist Syrups for baristas &amp; cocktail ...</td>\n",
       "      <td>the-sweet-botanist-syrup-co</td>\n",
       "      <td>The Sweet Botanist's natural syrups are made s...</td>\n",
       "      <td>https://www.kickstarter.com/projects/172320443...</td>\n",
       "      <td>food</td>\n",
       "      <td>Drinks</td>\n",
       "      <td>307</td>\n",
       "      <td>1723204437</td>\n",
       "      <td>Amber M.</td>\n",
       "      <td>...</td>\n",
       "      <td>international</td>\n",
       "      <td>inactive</td>\n",
       "      <td>2016-06-24</td>\n",
       "      <td>False</td>\n",
       "      <td>False</td>\n",
       "      <td>False</td>\n",
       "      <td>False</td>\n",
       "      <td>8.0</td>\n",
       "      <td>19.0</td>\n",
       "      <td>26.25</td>\n",
       "    </tr>\n",
       "    <tr>\n",
       "      <th>95060</th>\n",
       "      <td>successful</td>\n",
       "      <td>El Capitan Film Restoration</td>\n",
       "      <td>el-capitan-film-restoration</td>\n",
       "      <td>The digital restoration of the classic 1968 Ro...</td>\n",
       "      <td>https://www.kickstarter.com/projects/176573582...</td>\n",
       "      <td>film &amp; video</td>\n",
       "      <td>Documentary</td>\n",
       "      <td>30</td>\n",
       "      <td>1765735821</td>\n",
       "      <td>Fred Padula</td>\n",
       "      <td>...</td>\n",
       "      <td>international</td>\n",
       "      <td>inactive</td>\n",
       "      <td>2012-11-01</td>\n",
       "      <td>False</td>\n",
       "      <td>False</td>\n",
       "      <td>True</td>\n",
       "      <td>False</td>\n",
       "      <td>4.0</td>\n",
       "      <td>12.0</td>\n",
       "      <td>35.90</td>\n",
       "    </tr>\n",
       "  </tbody>\n",
       "</table>\n",
       "<p>5 rows × 35 columns</p>\n",
       "</div>"
      ],
      "text/plain": [
       "                 state                                               name  \\\n",
       "project_id                                                                  \n",
       "3251221     successful                         Believing Heart Tarot Deck   \n",
       "860485          failed                      Zone 7 Street Arts Initiative   \n",
       "1102377     successful               Loving Becca ~ Journey of Child Loss   \n",
       "2531031         failed  Sweet Botanist Syrups for baristas & cocktail ...   \n",
       "95060       successful                        El Capitan Film Restoration   \n",
       "\n",
       "                                          slug  \\\n",
       "project_id                                       \n",
       "3251221             believing-heart-tarot-deck   \n",
       "860485           zone-7-street-arts-initiative   \n",
       "1102377     loving-becca-journey-of-child-loss   \n",
       "2531031            the-sweet-botanist-syrup-co   \n",
       "95060              el-capitan-film-restoration   \n",
       "\n",
       "                                                        blurb  \\\n",
       "project_id                                                      \n",
       "3251221     Believing Heart Tarot is a one of a kind addit...   \n",
       "860485      Be a part of Street Art Magic and have a hand ...   \n",
       "1102377     My writing changed after my daughter was kille...   \n",
       "2531031     The Sweet Botanist's natural syrups are made s...   \n",
       "95060       The digital restoration of the classic 1968 Ro...   \n",
       "\n",
       "                                                          url      category  \\\n",
       "project_id                                                                    \n",
       "3251221     https://www.kickstarter.com/projects/catsteale...           art   \n",
       "860485      https://www.kickstarter.com/projects/196009065...           art   \n",
       "1102377     https://www.kickstarter.com/projects/204949601...    journalism   \n",
       "2531031     https://www.kickstarter.com/projects/172320443...          food   \n",
       "95060       https://www.kickstarter.com/projects/176573582...  film & video   \n",
       "\n",
       "            subcategory subcategory_id  creator_id          creator_name  ...  \\\n",
       "project_id                                                                ...   \n",
       "3251221     Digital Art             21  1647802423     Catstealers-Zines  ...   \n",
       "860485       Public Art             53  1960090658  Inman E. Goodman III  ...   \n",
       "1102377           Print            359  2049496016            Diane Neas  ...   \n",
       "2531031          Drinks            307  1723204437              Amber M.  ...   \n",
       "95060       Documentary             30  1765735821           Fred Padula  ...   \n",
       "\n",
       "                 usd_type project_status state_changed_at  \\\n",
       "project_id                                                  \n",
       "3251221     international         active       2018-04-01   \n",
       "860485      international       inactive       2014-02-13   \n",
       "1102377     international       inactive       2014-08-10   \n",
       "2531031     international       inactive       2016-06-24   \n",
       "95060       international       inactive       2012-11-01   \n",
       "\n",
       "           disable_communication is_starrable spotlight staff_pick  name_len  \\\n",
       "project_id                                                                     \n",
       "3251221                    False        False      True      False       4.0   \n",
       "860485                     False        False     False      False       5.0   \n",
       "1102377                    False        False      True      False       7.0   \n",
       "2531031                    False        False     False      False       8.0   \n",
       "95060                      False        False      True      False       4.0   \n",
       "\n",
       "            blurb_len  pledge_per_backer  \n",
       "project_id                                \n",
       "3251221          25.0              67.46  \n",
       "860485           23.0              14.00  \n",
       "1102377          26.0              36.35  \n",
       "2531031          19.0              26.25  \n",
       "95060            12.0              35.90  \n",
       "\n",
       "[5 rows x 35 columns]"
      ]
     },
     "execution_count": 28,
     "metadata": {},
     "output_type": "execute_result"
    }
   ],
   "source": [
    "df.head()"
   ]
  },
  {
   "cell_type": "code",
   "execution_count": 29,
   "id": "bbd52391",
   "metadata": {},
   "outputs": [
    {
     "data": {
      "text/plain": [
       "state                      object\n",
       "name                       object\n",
       "slug                       object\n",
       "blurb                      object\n",
       "url                        object\n",
       "category                   object\n",
       "subcategory                object\n",
       "subcategory_id             object\n",
       "creator_id                 object\n",
       "creator_name               object\n",
       "is_creator_registered      object\n",
       "country                    object\n",
       "nation                     object\n",
       "city                       object\n",
       "created_at                 object\n",
       "launched_at                object\n",
       "deadline                   object\n",
       "nr_backers                  int64\n",
       "usd_goal                  float64\n",
       "pledged                   float64\n",
       "currency                   object\n",
       "usd_pledged               float64\n",
       "current_currency           object\n",
       "fx_rate                   float64\n",
       "currency_trailing_code       bool\n",
       "usd_type                   object\n",
       "project_status             object\n",
       "state_changed_at           object\n",
       "disable_communication        bool\n",
       "is_starrable                 bool\n",
       "spotlight                    bool\n",
       "staff_pick                   bool\n",
       "name_len                  float64\n",
       "blurb_len                 float64\n",
       "pledge_per_backer         float64\n",
       "dtype: object"
      ]
     },
     "execution_count": 29,
     "metadata": {},
     "output_type": "execute_result"
    }
   ],
   "source": [
    "df.dtypes"
   ]
  },
  {
   "cell_type": "markdown",
   "id": "111de351",
   "metadata": {},
   "source": [
    "#### Description of our final variables\n",
    "\n",
    "- project_id: id of the project.\n",
    "- state: status of the project (successful, failed, canceled, live, suspended)\n",
    "- name: name of the project.\n",
    "- slug: nickname of the project.\n",
    "- blurb: description of what’s the project about.\n",
    "- url: url of the project.\n",
    "- category: category of the project.\n",
    "- subcategory: subcategory of the project.\n",
    "- subcategory_id: id of the subcategory of the project.\n",
    "- creator_id: id of the creator of the project.\n",
    "- creator_name: name of the creator of the project.\n",
    "- is_creator_registered: \n",
    "- country: country where the project has originated.\n",
    "- nation: nation where the project has originated.\n",
    "- city: city where the project has originated.\n",
    "- created_at: when the project has been created - yyyy/mm/dd.\n",
    "- launched_at: launch date of the project - yyyy/mm/dd.\n",
    "- deadline: deadline of the project - yyyy/mm/dd.\n",
    "- nr_backers: number of backers for the project.\n",
    "- goal: amount of money for reaching the goal.\n",
    "- pledged: pledged amount in the initial currency.\n",
    "- currency: currency of the project.\n",
    "- usd_pledged: pledged amount multiplied for the static usd rate.             \n",
    "- current_currency: current currency of the project.\n",
    "- fx_rate: exchange rate.               \n",
    "- static_usd_rate.      \n",
    "- currency_trailing_code.   \n",
    "- usd_type: international or domestic.               \n",
    "- project_status.          \n",
    "- state_changed_at: when the state of the project changed - yyyy/mm/dd.         \n",
    "- disable_communication: status about communication, id false for all campaigns that have ended.   \n",
    "- is_starrable: how successful Kickstarter believes the campaign will be.           \n",
    "- spotlight: after your project is successfully funded you will gain access to the Spotlight page tool which allows you to make a home for your project.   \n",
    "- staff_pick: feature that highlights promising projects on the site to give them a boost by helping them get exposure through email newsletter and highlighted spots around the site.\n",
    "- blurb_len: word count in project description\n",
    "- name_len: word count in name"
   ]
  },
  {
   "cell_type": "markdown",
   "id": "ba468ff2",
   "metadata": {},
   "source": [
    "##  Exploratory Data Analysis"
   ]
  },
  {
   "cell_type": "markdown",
   "id": "6e132673",
   "metadata": {},
   "source": [
    "### Main Statistics"
   ]
  },
  {
   "cell_type": "markdown",
   "id": "a7c6052e",
   "metadata": {},
   "source": [
    "How many successful/failed/canceled projects?"
   ]
  },
  {
   "cell_type": "code",
   "execution_count": 30,
   "id": "5a3ca555",
   "metadata": {},
   "outputs": [
    {
     "data": {
      "text/plain": [
       "successful    53.229233\n",
       "failed        39.351089\n",
       "canceled       4.508561\n",
       "live           2.585077\n",
       "suspended      0.326041\n",
       "Name: state, dtype: float64"
      ]
     },
     "execution_count": 30,
     "metadata": {},
     "output_type": "execute_result"
    }
   ],
   "source": [
    "df['state'].value_counts(normalize=True) * 100"
   ]
  },
  {
   "cell_type": "markdown",
   "id": "894351d9",
   "metadata": {},
   "source": [
    "Statistics regarding categories and subcategories available"
   ]
  },
  {
   "cell_type": "code",
   "execution_count": 31,
   "id": "c77ebd7d",
   "metadata": {},
   "outputs": [
    {
     "name": "stdout",
     "output_type": "stream",
     "text": [
      "There are 15 categories\n",
      "There are 159 subcategories\n",
      "There are 22411 current projects and 166829 past ones\n"
     ]
    }
   ],
   "source": [
    "nr_category = df['category'].nunique()\n",
    "nr_subcategory = df['subcategory'].nunique()\n",
    "active_projects = df['project_status'].value_counts()\n",
    "\n",
    "print(f'There are {nr_category} categories')\n",
    "print(f'There are {nr_subcategory} subcategories')\n",
    "print(f'There are {active_projects[1]} current projects and {active_projects[0]} past ones')"
   ]
  },
  {
   "cell_type": "code",
   "execution_count": 32,
   "id": "cb56264e",
   "metadata": {},
   "outputs": [
    {
     "ename": "KeyError",
     "evalue": "'Column not found: project_id'",
     "output_type": "error",
     "traceback": [
      "\u001b[0;31m---------------------------------------------------------------------------\u001b[0m",
      "\u001b[0;31mKeyError\u001b[0m                                  Traceback (most recent call last)",
      "Input \u001b[0;32mIn [32]\u001b[0m, in \u001b[0;36m<cell line: 1>\u001b[0;34m()\u001b[0m\n\u001b[1;32m      1\u001b[0m df_category \u001b[38;5;241m=\u001b[39m pd\u001b[38;5;241m.\u001b[39mDataFrame({ \u001b[38;5;124m'\u001b[39m\u001b[38;5;124mNr of subcategories\u001b[39m\u001b[38;5;124m'\u001b[39m: df\u001b[38;5;241m.\u001b[39mgroupby(\u001b[38;5;124m'\u001b[39m\u001b[38;5;124mcategory\u001b[39m\u001b[38;5;124m'\u001b[39m)[\u001b[38;5;124m'\u001b[39m\u001b[38;5;124msubcategory\u001b[39m\u001b[38;5;124m'\u001b[39m]\u001b[38;5;241m.\u001b[39mnunique(),\n\u001b[0;32m----> 2\u001b[0m                             \u001b[38;5;124m'\u001b[39m\u001b[38;5;124mProjects per category\u001b[39m\u001b[38;5;124m'\u001b[39m: \u001b[43mdf\u001b[49m\u001b[38;5;241;43m.\u001b[39;49m\u001b[43mgroupby\u001b[49m\u001b[43m(\u001b[49m\u001b[38;5;124;43m'\u001b[39;49m\u001b[38;5;124;43mcategory\u001b[39;49m\u001b[38;5;124;43m'\u001b[39;49m\u001b[43m)\u001b[49m\u001b[43m[\u001b[49m\u001b[38;5;124;43m'\u001b[39;49m\u001b[38;5;124;43mproject_id\u001b[39;49m\u001b[38;5;124;43m'\u001b[39;49m\u001b[43m]\u001b[49m\u001b[38;5;241m.\u001b[39mnunique()\n\u001b[1;32m      3\u001b[0m                            })\u001b[38;5;241m.\u001b[39msort_values(\u001b[38;5;124m'\u001b[39m\u001b[38;5;124mProjects per category\u001b[39m\u001b[38;5;124m'\u001b[39m, ascending \u001b[38;5;241m=\u001b[39m \u001b[38;5;28;01mFalse\u001b[39;00m)\n\u001b[1;32m      4\u001b[0m df_category[\u001b[38;5;124m\"\u001b[39m\u001b[38;5;124mFrequency\u001b[39m\u001b[38;5;124m\"\u001b[39m] \u001b[38;5;241m=\u001b[39m df_category[\u001b[38;5;124m'\u001b[39m\u001b[38;5;124mProjects per category\u001b[39m\u001b[38;5;124m'\u001b[39m]\u001b[38;5;241m/\u001b[39mdf_category[\u001b[38;5;124m'\u001b[39m\u001b[38;5;124mProjects per category\u001b[39m\u001b[38;5;124m'\u001b[39m]\u001b[38;5;241m.\u001b[39msum()\u001b[38;5;241m*\u001b[39m\u001b[38;5;241m100\u001b[39m\n\u001b[1;32m      6\u001b[0m df_category\n",
      "File \u001b[0;32m~/opt/anaconda3/envs/ML/lib/python3.9/site-packages/pandas/core/groupby/generic.py:1338\u001b[0m, in \u001b[0;36mDataFrameGroupBy.__getitem__\u001b[0;34m(self, key)\u001b[0m\n\u001b[1;32m   1329\u001b[0m \u001b[38;5;28;01mif\u001b[39;00m \u001b[38;5;28misinstance\u001b[39m(key, \u001b[38;5;28mtuple\u001b[39m) \u001b[38;5;129;01mand\u001b[39;00m \u001b[38;5;28mlen\u001b[39m(key) \u001b[38;5;241m>\u001b[39m \u001b[38;5;241m1\u001b[39m:\n\u001b[1;32m   1330\u001b[0m     \u001b[38;5;66;03m# if len == 1, then it becomes a SeriesGroupBy and this is actually\u001b[39;00m\n\u001b[1;32m   1331\u001b[0m     \u001b[38;5;66;03m# valid syntax, so don't raise warning\u001b[39;00m\n\u001b[1;32m   1332\u001b[0m     warnings\u001b[38;5;241m.\u001b[39mwarn(\n\u001b[1;32m   1333\u001b[0m         \u001b[38;5;124m\"\u001b[39m\u001b[38;5;124mIndexing with multiple keys (implicitly converted to a tuple \u001b[39m\u001b[38;5;124m\"\u001b[39m\n\u001b[1;32m   1334\u001b[0m         \u001b[38;5;124m\"\u001b[39m\u001b[38;5;124mof keys) will be deprecated, use a list instead.\u001b[39m\u001b[38;5;124m\"\u001b[39m,\n\u001b[1;32m   1335\u001b[0m         \u001b[38;5;167;01mFutureWarning\u001b[39;00m,\n\u001b[1;32m   1336\u001b[0m         stacklevel\u001b[38;5;241m=\u001b[39mfind_stack_level(),\n\u001b[1;32m   1337\u001b[0m     )\n\u001b[0;32m-> 1338\u001b[0m \u001b[38;5;28;01mreturn\u001b[39;00m \u001b[38;5;28;43msuper\u001b[39;49m\u001b[43m(\u001b[49m\u001b[43m)\u001b[49m\u001b[38;5;241;43m.\u001b[39;49m\u001b[38;5;21;43m__getitem__\u001b[39;49m\u001b[43m(\u001b[49m\u001b[43mkey\u001b[49m\u001b[43m)\u001b[49m\n",
      "File \u001b[0;32m~/opt/anaconda3/envs/ML/lib/python3.9/site-packages/pandas/core/base.py:250\u001b[0m, in \u001b[0;36mSelectionMixin.__getitem__\u001b[0;34m(self, key)\u001b[0m\n\u001b[1;32m    248\u001b[0m \u001b[38;5;28;01melse\u001b[39;00m:\n\u001b[1;32m    249\u001b[0m     \u001b[38;5;28;01mif\u001b[39;00m key \u001b[38;5;129;01mnot\u001b[39;00m \u001b[38;5;129;01min\u001b[39;00m \u001b[38;5;28mself\u001b[39m\u001b[38;5;241m.\u001b[39mobj:\n\u001b[0;32m--> 250\u001b[0m         \u001b[38;5;28;01mraise\u001b[39;00m \u001b[38;5;167;01mKeyError\u001b[39;00m(\u001b[38;5;124mf\u001b[39m\u001b[38;5;124m\"\u001b[39m\u001b[38;5;124mColumn not found: \u001b[39m\u001b[38;5;132;01m{\u001b[39;00mkey\u001b[38;5;132;01m}\u001b[39;00m\u001b[38;5;124m\"\u001b[39m)\n\u001b[1;32m    251\u001b[0m     subset \u001b[38;5;241m=\u001b[39m \u001b[38;5;28mself\u001b[39m\u001b[38;5;241m.\u001b[39mobj[key]\n\u001b[1;32m    252\u001b[0m     ndim \u001b[38;5;241m=\u001b[39m subset\u001b[38;5;241m.\u001b[39mndim\n",
      "\u001b[0;31mKeyError\u001b[0m: 'Column not found: project_id'"
     ]
    }
   ],
   "source": [
    "df_category = pd.DataFrame({ 'Nr of subcategories': df.groupby('category')['subcategory'].nunique(),\n",
    "                            'Projects per category': df.groupby('category')['project_id'].nunique()\n",
    "                           }).sort_values('Projects per category', ascending = False)\n",
    "df_category[\"Frequency\"] = df_category['Projects per category']/df_category['Projects per category'].sum()*100\n",
    "\n",
    "df_category"
   ]
  },
  {
   "cell_type": "code",
   "execution_count": null,
   "id": "fe7d06b5",
   "metadata": {},
   "outputs": [],
   "source": [
    "cat_sub = df.groupby(['category','subcategory']).size()\n",
    "cat_sub_frame = cat_sub.to_frame()\n",
    "cat_sub_frame"
   ]
  },
  {
   "cell_type": "markdown",
   "id": "9a4b8a78-41d5-4b61-b3fa-51041055fe03",
   "metadata": {},
   "source": [
    "#### Statistic evaluation:\n",
    "- mean/median # of backers or amout collected per cat/subcat\n",
    "- correlation? \n",
    "    - on nr_backers, usd_pledged, category, subcategory"
   ]
  },
  {
   "cell_type": "code",
   "execution_count": null,
   "id": "f7f0f843-1ae9-47c6-a436-ca003aef9680",
   "metadata": {},
   "outputs": [],
   "source": [
    "df.columns"
   ]
  },
  {
   "cell_type": "code",
   "execution_count": null,
   "id": "3fb56179-5aca-4df4-86c6-db8efa9a2740",
   "metadata": {},
   "outputs": [],
   "source": [
    "pd.set_option('display.max_columns', None)\n",
    "\n",
    "df_grouped = df.groupby('category')\n",
    "df_grouped.describe()"
   ]
  },
  {
   "cell_type": "code",
   "execution_count": null,
   "id": "53a7b5e9-ab7d-4ca3-8e43-e60de89a5caa",
   "metadata": {},
   "outputs": [],
   "source": [
    "df_grouped.mean()"
   ]
  },
  {
   "cell_type": "markdown",
   "id": "b0ac4128-364c-4d38-86d3-eb9624a5f0fc",
   "metadata": {},
   "source": [
    "### Visualization"
   ]
  },
  {
   "cell_type": "code",
   "execution_count": null,
   "id": "330e2685-8989-4cee-883e-4d898b3f2569",
   "metadata": {},
   "outputs": [],
   "source": [
    "import seaborn as sns\n",
    "from matplotlib import pyplot as plt\n",
    "from matplotlib import cm"
   ]
  },
  {
   "cell_type": "code",
   "execution_count": null,
   "id": "cfcc8979-d939-48e5-af3e-c0345b3c421e",
   "metadata": {},
   "outputs": [],
   "source": [
    "plt.figure(figsize=(16,6))\n",
    "df['launched_at'] = pd.to_datetime(df['launched_at'])\n",
    "df.set_index('launched_at').category.resample('M').count().plot() #resampling time series to Months\n",
    "plt.xlim('2009-01-01', '2018-12-31')\n",
    "plt.xlabel('')\n",
    "plt.ylabel('Number of projects')\n",
    "plt.title('Number of projects launched on Kickstarter, 2009-2019')\n",
    "plt.show()"
   ]
  },
  {
   "cell_type": "code",
   "execution_count": null,
   "id": "aafde88b-9f1d-4c56-bd05-a0b2976d553b",
   "metadata": {},
   "outputs": [],
   "source": [
    "#year_df['launched_at'] = pd.to_datetime(year_df['launched_at'],format='%Y')\n",
    "year_df = df.set_index('launched_at').state\n",
    "year_df = pd.get_dummies(year_df).resample('YS').sum()\n",
    "year_df1 = year_df[['successful', 'failed']]\n",
    "\n",
    "fig, ax = plt.subplots(1,2, figsize=(16,6))\n",
    "year_df1.plot.bar(ax=ax[0], color=['darkblue', 'grey'])\n",
    "ax[0].set_title('Total number of failed and successful projects')\n",
    "ax[0].set_xlabel('')\n",
    "\n",
    "year_df1[\"successful\"].div(year_df.sum(axis=1), axis=0).plot(kind='bar', ax=ax[1], color='darkblue') # Normalizes counts across rows\n",
    "ax[1].set_title('Success Rate')\n",
    "ax[1].set_xlabel('')\n",
    "plt.show()"
   ]
  },
  {
   "cell_type": "markdown",
   "id": "c9b21a8a-8870-496e-9edf-4eecba9ec3cf",
   "metadata": {},
   "source": [
    "The left image depicts the total number of failed and successful projects, which indicated that the total number of failures and successes have been decreading since 2013. Not equally as the right images showcases: the success rate has depreciated over the past years."
   ]
  },
  {
   "cell_type": "code",
   "execution_count": null,
   "id": "0dd3008e-a160-4246-890c-cdeeb8d5a6e5",
   "metadata": {},
   "outputs": [],
   "source": [
    "fig, ((ax1, ax2, ax3)) = plt.subplots(3, 1, figsize=(16,20))\n",
    "color = cm.CMRmap(np.linspace(0, 1, 16,df.category.nunique()))\n",
    "\n",
    "df.groupby('category').category.count().plot(kind='bar', ax=ax1, color=color)\n",
    "ax1.set_title('Number of projects')\n",
    "ax1.set_xlabel('')\n",
    "\n",
    "df.groupby('category').goal.median().plot(kind='bar', ax=ax2, color=color)\n",
    "ax2.set_title('Median project goal ($)')\n",
    "ax2.set_xlabel('')\n",
    "\n",
    "df.groupby('category').usd_pledged.median().plot(kind='bar', ax=ax3, color=color)\n",
    "ax3.set_title('Median pledged per project ($)')\n",
    "ax3.set_xlabel('')\n",
    "\n",
    "fig.subplots_adjust(hspace=0.5)\n",
    "plt.show()"
   ]
  },
  {
   "cell_type": "markdown",
   "id": "08b6ca1f-2b8c-497d-87e2-bf1659a623a6",
   "metadata": {},
   "source": [
    "The illustrations above aim to highlight the differences among the 15 different categories. Film&Video is the most used category, closely followed by music. Art, publishing and technology take the third place. However, technology has the highest median project goal. Design is the category with the highed pledged amount per project."
   ]
  },
  {
   "cell_type": "code",
   "execution_count": null,
   "id": "37415bcb-ee63-4a22-81be-ba969c21dc30",
   "metadata": {},
   "outputs": [],
   "source": [
    "plt.figure(figsize=(16,6))\n",
    "df.set_index('launched_at').sort_index().usd_pledged.cumsum().plot()\n",
    "plt.xlim('2009-01-01', '2019-02-28') # Limiting to whole months\n",
    "plt.xlabel('')\n",
    "plt.ylabel('Cumulative amount pledged in $', fontsize=12)\n",
    "plt.title('Cumulative pledged', fontsize=16)\n",
    "plt.show()"
   ]
  },
  {
   "cell_type": "markdown",
   "id": "605f984a-f0a0-46b5-9062-1de4049bb680",
   "metadata": {},
   "source": [
    "The cumulative pledged figure shows the total of pledged amounts for each year 2009-2019. The trend can be split into two phases, with a change in 2013/2014."
   ]
  },
  {
   "cell_type": "code",
   "execution_count": null,
   "id": "897472ce-6b3b-438e-9ca3-fe5b7ebc793f",
   "metadata": {},
   "outputs": [],
   "source": [
    "plt.figure(figsize=(16,6))\n",
    "sns.boxplot(df.launched_at.dt.year, np.log(df.usd_pledged))\n",
    "plt.xlabel('')\n",
    "plt.ylabel('Amount pledged (log-transformed)',) #Log-transforming to make the trend clearer, as the distribution is heavily positively skewed\n",
    "plt.title('Amount pledged on Kickstarter projects, 2009-2019')\n",
    "plt.show()"
   ]
  },
  {
   "cell_type": "markdown",
   "id": "ec7861ea-b3d3-4821-942e-6b1af68134c5",
   "metadata": {},
   "source": [
    "Again, the trend can be split into two phases, with a change in 2014. We can see a greater variation in amounts pledged from 2014, with lower median amounts than before 2014, but generally higher mean amounts due to some very large projects."
   ]
  },
  {
   "cell_type": "markdown",
   "id": "04697a8e-e96e-4768-bb82-8e04ee23755d",
   "metadata": {},
   "source": [
    "# Modeling\n",
    "## Overview\n",
    "\n",
    "1. LOGISTIC REGRESSION: Logistic regression as a binary classifier in order to predict which of two categories a data point falls in to. Probability it will successful or not\n",
    "2. MULTI LINEAR REGRESSION: What can be the funding goal for this project based on the range of prices for this category/subtopic? Help creators to set a feasible goal \n",
    "2. LOGISTIC REGRESSION multiclass classification: Level based on pledged amount. Which variables are more correlated with price? A, B, C, D, E based on pledged amount - funding goal\n",
    "3. LOGISTIC REGRESSION WITH PCA (Domi): As the dataset hast a lot of features, we can usa PCA and reduce it to fewer features which still explain the variation --> model fitting / accuracy can be improved herewith confusion matrix and classification for using the best parameters\n",
    "4. RANDOM FOREST (Maria and Eugenia)"
   ]
  },
  {
   "cell_type": "markdown",
   "id": "a51501d3",
   "metadata": {},
   "source": [
    "### 1. Logistic Regression\n",
    "For our dummy model we train a classification model with several numeric and categorical features of completed projects to get an estimation whether the model would generally be able to predict the success of a project.\n",
    "\n",
    "Numeric features: \n",
    "- Nr of Backers\n",
    "- Goal\n",
    "\n",
    "Categorical features:\n",
    "- Category\n",
    "- Subcategory\n",
    "- Country \n",
    "- Nation\n",
    "- spotlight\n",
    "- staff_pick\n",
    "\n",
    "Target variable: \n",
    "- state"
   ]
  },
  {
   "cell_type": "code",
   "execution_count": null,
   "id": "47196412",
   "metadata": {},
   "outputs": [],
   "source": [
    "#Imports\n",
    "from sklearn.pipeline import Pipeline\n",
    "from sklearn.impute import SimpleImputer\n",
    "from sklearn.preprocessing import StandardScaler\n",
    "from sklearn.model_selection import train_test_split\n",
    "from sklearn.preprocessing import OneHotEncoder\n",
    "from sklearn.compose import ColumnTransformer\n",
    "from sklearn import set_config \n",
    "from sklearn.linear_model import LogisticRegressionCV\n",
    "from sklearn.metrics import classification_report\n",
    "from sklearn.linear_model import LogisticRegression\n",
    "import warnings\n",
    "from sklearn.feature_selection import VarianceThreshold\n",
    "from sklearn.metrics import f1_score\n",
    "from sklearn.model_selection import GridSearchCV\n",
    "\n",
    "warnings.filterwarnings('ignore')"
   ]
  },
  {
   "cell_type": "code",
   "execution_count": null,
   "id": "f09f56d5",
   "metadata": {},
   "outputs": [],
   "source": [
    "#Transform dataset\n",
    "df_dummy=df\n",
    "\n",
    "df_dummy=df_dummy.loc[df['state'].isin([\"failed\",\"successful\"])]\n",
    "df_dummy=df_dummy.loc[df['project_status'].isin([\"inactive\"])]\n",
    "\n",
    "#Drop unused columns\n",
    "del_col=['project_id', 'name', 'slug', 'blurb', 'url', 'subcategory_id', 'creator_id', 'creator_name',\n",
    "        'city', 'created_at', 'launched_at', 'deadline','pledged', 'currency', 'usd_pledged', 'current_currency',\n",
    "        'fx_rate', 'static_usd_rate', 'currency_trailing_code', 'usd_type', 'project_status','state_changed_at',\n",
    "        'disable_communication', 'is_creator_registered','is_starrable']\n",
    "\n",
    "df_dummy=df_dummy.drop(del_col, axis = 1)\n",
    "\n",
    "#Transform y to 0:1 \n",
    "y=df_dummy[\"state\"].replace({'failed' : 0, 'successful': 1})\n",
    "\n",
    "X=df_dummy\n",
    "X=X.drop('state', axis = 1)"
   ]
  },
  {
   "cell_type": "markdown",
   "id": "36bc9415",
   "metadata": {
    "jp-MarkdownHeadingCollapsed": true,
    "tags": []
   },
   "source": [
    "#### Trial #1"
   ]
  },
  {
   "cell_type": "code",
   "execution_count": null,
   "id": "b65b5620",
   "metadata": {},
   "outputs": [],
   "source": [
    "#Build preprocessor for columns\n",
    "#Standardize numerical features\n",
    "numeric_features=[\"nr_backers\", \"goal\"]\n",
    "numeric_transformer = Pipeline(steps =[\n",
    "    (\"imputer\",SimpleImputer(strategy=\"mean\")),\n",
    "    (\"scaler\", StandardScaler())])\n",
    "\n",
    "#Encode categorical features\n",
    "cat_features=[\"category\", \"subcategory\", \"country\", \"nation\", \"spotlight\", \"staff_pick\"]\n",
    "categorical_transformer = OneHotEncoder(handle_unknown=\"ignore\")\n",
    "\n",
    "#Column transformer\n",
    "preprocessor = ColumnTransformer(\n",
    "    transformers=[\n",
    "        (\"num\", numeric_transformer, numeric_features),\n",
    "        (\"cat\", categorical_transformer, cat_features)])\n",
    "\n",
    "set_config(display=\"diagram\")\n",
    "\n",
    "#Run Column Transformer\n",
    "X_trans = preprocessor.fit_transform(X)\n",
    "\n",
    "X_train, X_test, y_train, y_test = train_test_split(X_trans,y,test_size=0.2,shuffle=True, random_state=123)\n",
    "\n",
    "#Build Logistic Regression\n",
    "clf = LogisticRegression()\n",
    "clf.fit(X_train, y_train)\n",
    "\n",
    "# Making predictions\n",
    "y_train_pred = clf.predict(X_train)\n",
    "y_test_pred = clf.predict(X_test)"
   ]
  },
  {
   "cell_type": "markdown",
   "id": "1cf4ac25",
   "metadata": {
    "jp-MarkdownHeadingCollapsed": true,
    "tags": []
   },
   "source": [
    "#### Evaluation #1"
   ]
  },
  {
   "cell_type": "code",
   "execution_count": null,
   "id": "e14f54a6",
   "metadata": {},
   "outputs": [],
   "source": [
    "# Logistic regression scores\n",
    "print(\"Logistic regression score for training set:\", round(clf.score(X_train, y_train),5))\n",
    "print(\"Logistic regression score for test set:\", round(clf.score(X_test, y_test),5))\n",
    "print(\"\\nClassification report:\")\n",
    "print(classification_report(y_test, y_test_pred))"
   ]
  },
  {
   "cell_type": "markdown",
   "id": "90f3bffb",
   "metadata": {},
   "source": [
    "The performance metrics are  extremely high and decribe a perfect model. This is mainly because  the feature \"spotlight\" is perfectly correlated to the target variable. In the following trial we will evaluate the model without this feature. Nonetheless, \"spotlight\" is an important variable that needs further analysis. "
   ]
  },
  {
   "cell_type": "markdown",
   "id": "c1de38f2",
   "metadata": {},
   "source": [
    "#### Trial #2"
   ]
  },
  {
   "cell_type": "code",
   "execution_count": null,
   "id": "4a2ce295",
   "metadata": {},
   "outputs": [],
   "source": [
    "#Build preprocessor for columns\n",
    "#Standardize numerical features\n",
    "numeric_features=[\"nr_backers\", \"goal\"]\n",
    "numeric_transformer = Pipeline(steps =[\n",
    "    (\"imputer\",SimpleImputer(strategy=\"mean\")),\n",
    "    (\"scaler\", StandardScaler())])\n",
    "\n",
    "#Encode categorical features\n",
    "cat_features=[\"category\", \"subcategory\", \"nation\", \"staff_pick\"]\n",
    "categorical_transformer = OneHotEncoder(sparse = False, handle_unknown=\"ignore\")\n",
    "\n",
    "#Column transformer\n",
    "preprocessor = ColumnTransformer(\n",
    "    transformers=[\n",
    "        (\"num\", numeric_transformer, numeric_features),\n",
    "        (\"cat\", categorical_transformer, cat_features)])\n",
    "\n",
    "set_config(display=\"diagram\")\n",
    "\n",
    "#Run Column Transformer\n",
    "X_trans = preprocessor.fit_transform(X)\n",
    "\n",
    "X_train, X_test, y_train, y_test = train_test_split(X_trans,y,test_size=0.2,shuffle=True, random_state=123)\n",
    "\n",
    "#Build Logistic Regression\n",
    "clf = LogisticRegression()\n",
    "clf.fit(X_train, y_train)\n",
    "\n",
    "# Making predictions\n",
    "y_train_pred = clf.predict(X_train)\n",
    "y_test_pred = clf.predict(X_test)"
   ]
  },
  {
   "cell_type": "markdown",
   "id": "fccaea08",
   "metadata": {},
   "source": [
    "#### Evaluation #2"
   ]
  },
  {
   "cell_type": "code",
   "execution_count": null,
   "id": "e2a8c523",
   "metadata": {},
   "outputs": [],
   "source": [
    "# Logistic regression scores\n",
    "print(\"Logistic regression score for training set:\", round(clf.score(X_train, y_train),5))\n",
    "print(\"Logistic regression score for test set:\", round(clf.score(X_test, y_test),5))\n",
    "print(\"\\nClassification report:\")\n",
    "print(classification_report(y_test, y_test_pred))"
   ]
  },
  {
   "cell_type": "markdown",
   "id": "107c4e02-5307-4781-916c-c3765def7015",
   "metadata": {},
   "source": [
    "## Feature Engineering"
   ]
  },
  {
   "cell_type": "markdown",
   "id": "2a6fb774-4ce4-4d47-8f23-b19843f7e24c",
   "metadata": {},
   "source": [
    "**Feature Selection with Variance Threshold**\n",
    "\n",
    "In this part we're optimizing our model through feature selection with a variance threshold. Thus, we're testing the model for \n",
    "multiple thresholds to decide which threshold provides us with the highest weighted F1 score. Since our data set is balanced and we're aiming for a good overall classification of samples we're relying on the weighted F1-score to correctly represent the proportion of each class’s support relative to the sum of all support values. "
   ]
  },
  {
   "cell_type": "code",
   "execution_count": null,
   "id": "d626f7b7-624c-41e5-a566-a59323e20e1c",
   "metadata": {},
   "outputs": [],
   "source": [
    "def opt_variance_threshold(X, preprocessor, varthresh):\n",
    "    X_trans = preprocessor.fit_transform(X)\n",
    "\n",
    "    #Variance Threshold\n",
    "    sel = VarianceThreshold(threshold = (varthresh*(1-varthresh)))\n",
    "    X_trans_sel=pd.DataFrame(X_trans)\n",
    "    X_trans_sel=sel.fit_transform(X_trans_sel)\n",
    "\n",
    "    #Train test split\n",
    "    X_train, X_test, y_train, y_test = train_test_split(X_trans_sel,y,test_size=0.2,shuffle=True, random_state=123)\n",
    "\n",
    "    #Build Logistic Regression\n",
    "    clf = LogisticRegression()\n",
    "    clf.fit(X_train, y_train)\n",
    "\n",
    "    # Making predictions\n",
    "    y_train_pred = clf.predict(X_train)\n",
    "    y_test_pred = clf.predict(X_test)\n",
    "\n",
    "    # Logistic regression scores\n",
    "    scores={\"Variance Threshold\": varthresh, \"Train Score\":round(clf.score(X_train, y_train),8), \n",
    "            \"Test Score\":round(clf.score(X_test, y_test),8), \n",
    "            \"F1-Score Train\":round(f1_score(y_train, y_train_pred, average='weighted'),8),\n",
    "            \"F1 Score Test\":round(f1_score(y_test, y_test_pred, average='weighted'),8)}\n",
    "    scores=pd.DataFrame(data=scores, index=[varthresh])\n",
    "    return scores\n",
    "\n",
    "scoring= pd.DataFrame(columns = [\"Variance Threshold\", \"Train Score\", \"Test Score\"])\n",
    "\n",
    "#Iterate thresholds\n",
    "for j in np.arange(0.8,1,0.01):\n",
    "    xx=opt_variance_threshold(X, preprocessor, j)\n",
    "    scoring=pd.concat([scoring,xx], axis=0)\n",
    "\n",
    "#Select optimal threshold\n",
    "opt_thresh=scoring['F1 Score Test'].idxmax().round(2)\n",
    "print(\"Optimal threshold for max f1-score test set: \"+str(opt_thresh))"
   ]
  },
  {
   "cell_type": "markdown",
   "id": "96f66dcf-799d-468d-90e2-47d74f3ec0dd",
   "metadata": {},
   "source": [
    "#### Hyperparameter Tuning Logistic Regression using GridSearch\n",
    "In this part we're tuning the hyperparameter using cross-validated GridSearch with our optimized Variance Threshold#Te. We're optimizing the C-Value as the main hyperparameter of the regression, the penalty of the loss function, as well as the solver itself. The results will be tested against the F1 score, as in the previous feature selection. "
   ]
  },
  {
   "cell_type": "code",
   "execution_count": null,
   "id": "b5c0c300-aba1-4968-be9e-7434c5dc9ccc",
   "metadata": {},
   "outputs": [],
   "source": [
    "def grid_search(X, preprocessor, vt_opt):\n",
    "    X_trans = preprocessor.fit_transform(X)\n",
    "\n",
    "    #Variance Threshold\n",
    "    sel = VarianceThreshold(threshold = (vt_opt*(1-vt_opt)))\n",
    "    X_trans_sel=pd.DataFrame(X_trans)\n",
    "    X_trans_sel=sel.fit_transform(X_trans_sel)\n",
    "\n",
    "    #Train test split\n",
    "    X_train, X_test, y_train, y_test = train_test_split(X_trans_sel,y,test_size=0.2,shuffle=True, random_state=123)\n",
    "\n",
    "    grid={\"C\":np.logspace(-3,3,7), \"penalty\":[\"l1\",\"l2\"], \"solver\": ['newton-cg', 'lbfgs', 'liblinear']}\n",
    "    \n",
    "    logreg=LogisticRegression()\n",
    "    logreg_cv=GridSearchCV(logreg,grid,cv=3, scoring =\"f1\")\n",
    "    logreg_cv.fit(X_train,y_train)\n",
    "\n",
    "    print(\"tuned hpyerparameters :(best parameters) \",logreg_cv.best_params_)\n",
    "    \n",
    "    return logreg_cv.best_params_\n",
    "\n",
    "check=grid_search(X, preprocessor, opt_thresh)\n",
    "\n",
    "opt_hyper=int(check[\"C\"])\n",
    "opt_regularization=str(check[\"penalty\"])\n",
    "opt_solver=str(check[\"solver\"])"
   ]
  },
  {
   "cell_type": "code",
   "execution_count": null,
   "id": "0dc5d609-0d11-40a5-873e-f0136f4d3825",
   "metadata": {},
   "outputs": [],
   "source": [
    "#Testing:\n",
    "def test_model(X, preprocessor, vt_opt, opt_hyper, opt_regularization, opt_solver):\n",
    "    X_trans = preprocessor.fit_transform(X)\n",
    "\n",
    "    #Optimal Variance Threshold\n",
    "    sel = VarianceThreshold(threshold = (vt_opt*(1-vt_opt)))\n",
    "    X_trans_sel=pd.DataFrame(X_trans)\n",
    "    X_trans_sel=sel.fit_transform(X_trans_sel)\n",
    "\n",
    "    #Train test split\n",
    "    X_train, X_test, y_train, y_test = train_test_split(X_trans_sel,y,test_size=0.2,shuffle=True, random_state=123)\n",
    "    \n",
    "    #LogReg with optimal parameters\n",
    "    clf=LogisticRegressionCV(cv=5, Cs=opt_hyper, solver=opt_solver, penalty=opt_regularization)\n",
    "    clf.fit(X_train,y_train)\n",
    "    \n",
    "    # Making predictions\n",
    "    y_train_pred = clf.predict(X_train)\n",
    "    y_test_pred = clf.predict(X_test)\n",
    "    \n",
    "    #Scoring\n",
    "    print(\"F1-Score Train\"+ str(round(f1_score(y_train, y_train_pred, average='weighted'),8)))\n",
    "    print(\"F1 Score Test\"+str(round(f1_score(y_test, y_test_pred, average='weighted'),8)))\n",
    "    \n",
    "    return #F1 Score\n",
    "    \n",
    "opt_hyper=int(check[\"C\"])\n",
    "test_model(X,preprocessor, opt_thresh, opt_hyper, opt_regularization, opt_solver)"
   ]
  },
  {
   "cell_type": "markdown",
   "id": "78be9bbc-6db0-4d79-af0e-34663f63bf55",
   "metadata": {
    "tags": []
   },
   "source": [
    "## Interpretation:\n",
    "xxx\n",
    "\n",
    "xxx"
   ]
  },
  {
   "cell_type": "markdown",
   "id": "afeec316-444b-4511-9cb5-8c4599a874c3",
   "metadata": {},
   "source": [
    "**To Do's**\n",
    "- Feature selection: Welche features sollten ins Modell mitaufgenommen werden und welche nicht? --> **FEATURE ENGINEERING AND FEATURE SELECTION**\n",
    "\n",
    "**Feature Engineering**\n",
    "Cat features:\n",
    "--> Ordinal Encoder vs One-Hot Encoder?\n",
    "--> Sparse representation when many unique categorical features\n",
    "\n",
    "Numeric features:\n",
    "- Counting \n",
    "- Rounding\n",
    "- Binning / Discretization (Könnte gut sein)\n",
    "- Statistical transformations: LogTransformation; Box-Cox Transformation (Könnte gut sein)\n",
    "- Scaling: Bring all values to a scale from 0 to 1 \n",
    "- Normalization: All samples have a unit form\n",
    "\n",
    "Feature cross: \n",
    "A feature cross is a synthetic feature that encodes nonlinearity in the feature space by multiplying two or more input features\n",
    "\n",
    "Engineering: \n",
    "created_at: when the project has been created - yyyy/mm/dd.\n",
    "launched_at: launch date of the project - yyyy/mm/dd.\n",
    "deadline: deadline of the project - yyyy/mm/dd.\n",
    "\n",
    "- Campaign length — number of days from launch to deadline: DEADLINE - LAUNCH DATE\n",
    "- Number of days from page creation to project launch: LAUNCH DATE - CREATION DATE\n",
    "- Name: Word length\n",
    "- Blurb: Word length\n",
    "\n",
    "Opt: \n",
    "- Month of launch\n",
    "- Month of deadline\n",
    "- Day of launch\n",
    "- Day of deadline\n",
    "- Two hour window of launch\n",
    "- Two hour window of deadline\n",
    "\n",
    "**Feature Selection**\n",
    "Avoid rarely used discrete feature values\n",
    "1. Variance Threshold -> Opt Threshold bei 0.96\n",
    "2. Recursive Feature Elimination\n",
    "3. SelectFromModel\n",
    "\n",
    "Coefficients abgleichen für jedes Feature\n",
    "\n",
    "Features:\n",
    "Numeric:\n",
    "    Goal: Sinnvoll\n",
    "    Number of backers: Sinvoll\n",
    "    \n",
    "Cat:\n",
    "    Category:\n",
    "    Subcategory:\n",
    "    Country: \n",
    "    Nation: Macht keinen sinn\n",
    "    Staff pick: Sinnvoll \n",
    "\n",
    "- Confusion Matrix\n",
    "- ROC und AUC curves für bessere Beurteilung (LogLoss??)\n",
    "- Kann F1 Score als zentrale Metrik genommen werden? (Es ist nicht eindeutig ob True False oder False True schlimmer ist)\n",
    "- 205k Samples insgesamt --> SGD classifier for large datasets >100K samples"
   ]
  },
  {
   "cell_type": "code",
   "execution_count": null,
   "id": "4ffb28ec-488b-4ef4-aa2f-0faf2842c482",
   "metadata": {},
   "outputs": [],
   "source": [
    "X.head()"
   ]
  },
  {
   "cell_type": "markdown",
   "id": "e6f95fd5-c49a-446e-821e-579229f58195",
   "metadata": {},
   "source": [
    "### 4. Logistic Regression with PCA\n",
    "The dependent (y) and independent (X) features will be separated into separate datasets. Because the features are on different scales, independent features will be transformed and normalised using StandardScaler."
   ]
  },
  {
   "cell_type": "code",
   "execution_count": null,
   "id": "7c1cda96-6906-45b7-87b1-3ee5a112e540",
   "metadata": {},
   "outputs": [],
   "source": [
    "import matplotlib.pyplot as plt\n",
    "from sklearn.decomposition import PCA\n",
    "from sklearn.linear_model import LogisticRegression\n",
    "from sklearn.metrics import classification_report"
   ]
  },
  {
   "cell_type": "code",
   "execution_count": null,
   "id": "c1226f91-7ce9-44ed-a6b7-ffafcc0d99e1",
   "metadata": {},
   "outputs": [],
   "source": [
    "# Fitting a logistic regression model with default parameters\n",
    "logistic_regression = LogisticRegression()\n",
    "logistic_regression.fit(X_train,y_train)\n",
    "\n",
    "# Making predictions\n",
    "y_hat_train = logistic_regression.predict(X_train)\n",
    "y_hat_test = logistic_regression.predict(X_test)\n",
    "# Logistic regression scores\n",
    "print(\"Log Reg score, training set:\", round(logistic_regression.score(X_train, y_train),5))\n",
    "print(\"Log Reg score, test set:\", round(logistic_regression.score(X_test, y_test),5))\n",
    "print(\"\\nClassification report:\")\n",
    "print(classification_report(y_test, y_hat_test))"
   ]
  },
  {
   "cell_type": "code",
   "execution_count": null,
   "id": "6981c786-b2e1-4a62-946f-c8ba25c37cc2",
   "metadata": {},
   "outputs": [],
   "source": [
    "df_transformed = df.drop(['nr_backers', 'created_at', 'deadline', 'is_starrable', 'launched_at', 'usd_pledged', 'subcategory'], axis=1)\n",
    "df_transformed['state'] = df_transformed['state'].replace({'failed': 0, 'successful': 1})\n",
    "df_transformed['staff_pick'] = df_transformed['staff_pick'].astype(str)"
   ]
  },
  {
   "cell_type": "code",
   "execution_count": null,
   "id": "f8d89c53-fe54-4d98-aee5-245e41614276",
   "metadata": {},
   "outputs": [],
   "source": [
    "#df_transformed = pd.get_dummies(df_transformed)"
   ]
  },
  {
   "cell_type": "code",
   "execution_count": null,
   "id": "edecc65b-07db-4880-a650-f774ee4159f6",
   "metadata": {},
   "outputs": [],
   "source": [
    "X_unscaled = df_transformed.drop('state', axis=1)\n",
    "y = df_transformed.state"
   ]
  },
  {
   "cell_type": "code",
   "execution_count": null,
   "id": "dce34da0-20c1-442c-9b6a-7c093665a836",
   "metadata": {},
   "outputs": [],
   "source": [
    "X_unscaled"
   ]
  },
  {
   "cell_type": "code",
   "execution_count": null,
   "id": "16e11085-14e4-428c-a0e7-53f6e44904d3",
   "metadata": {},
   "outputs": [],
   "source": [
    "# Transforming the data\n",
    "scaler = StandardScaler()\n",
    "X = pd.DataFrame(scaler.fit_transform(X_unscaled), columns=list(X_unscaled.columns))\n",
    "X.head()"
   ]
  },
  {
   "cell_type": "raw",
   "id": "b18abc6e-fd28-4551-baed-82a4c0b21c42",
   "metadata": {},
   "source": [
    "# 1) Creating dummy variables\n",
    "df_transformed = pd.get_dummies(df_transformed)\n",
    "# 2) Separating into X and y\n",
    "X_unscaled = df_transformed.drop('state', axis=1)\n",
    "y = df_transformed.state\n",
    "# 3) Transforming the data\n",
    "scaler = StandardScaler()\n",
    "X = pd.DataFrame(scaler.fit_transform(X_unscaled), columns=list(X_unscaled.columns))"
   ]
  },
  {
   "cell_type": "code",
   "execution_count": null,
   "id": "380af140-771a-4549-ab93-0cc9586d9cca",
   "metadata": {},
   "outputs": [],
   "source": [
    "# Fitting\n",
    "pca = PCA()\n",
    "pca.fit_transform(X)\n",
    "explained_var = np.cumsum(pca.explained_variance_ratio_)\n",
    "\n",
    "# Plotting the amount of variation explained by PCA with different numbers of components\n",
    "plt.plot(list(range(1, len(explained_var)+1)), explained_var)\n",
    "plt.title('Amount of variation explained by PCA', fontsize=14)\n",
    "plt.xlabel('Number of components')\n",
    "plt.ylabel('Explained variance');"
   ]
  },
  {
   "cell_type": "markdown",
   "id": "78d6b0d2-4e04-4d0c-8382-12958595c93c",
   "metadata": {},
   "source": [
    "### 5. Random Forest"
   ]
  },
  {
   "cell_type": "code",
   "execution_count": null,
   "id": "ccddbdee-4738-4cbc-8c0a-2dfb40385da4",
   "metadata": {},
   "outputs": [],
   "source": [
    "#Transform dataset\n",
    "df_dummy=df\n",
    "\n",
    "df_dummy=df_dummy.loc[df['state'].isin([\"failed\",\"successful\"])]\n",
    "df_dummy=df_dummy.loc[df['project_status'].isin([\"inactive\"])]\n",
    "\n",
    "#Drop unused columns\n",
    "del_col=['project_id', 'name', 'slug', 'blurb', 'url', 'subcategory_id', 'creator_id', 'creator_name',\n",
    "        'city', 'created_at', 'launched_at', 'deadline', 'currency', 'usd_pledged', 'current_currency',\n",
    "        'fx_rate', 'static_usd_rate', 'currency_trailing_code', 'usd_type', 'project_status','state_changed_at',\n",
    "        'disable_communication', 'is_creator_registered','is_starrable']\n",
    "\n",
    "df_dummy=df_dummy.drop(del_col, axis = 1)\n",
    "\n",
    "#Transform y to 0:1 \n",
    "y=df_dummy[\"state\"].replace({'failed' : 0, 'successful': 1})\n",
    "\n",
    "X=df_dummy\n",
    "X=X.drop('state', axis = 1)\n",
    "\n",
    "# Transforming the data\n",
    "numeric_features=['nr_backers', 'goal', 'pledged']\n",
    "numeric_transformer = Pipeline(steps =[\n",
    "    (\"imputer\",SimpleImputer(strategy=\"mean\")),\n",
    "    (\"scaler\", StandardScaler())])\n",
    "\n",
    "#Encode categorical features\n",
    "cat_features=[\"category\", \"subcategory\", \"country\", \"nation\", \"staff_pick\"]\n",
    "categorical_transformer = OneHotEncoder(handle_unknown=\"ignore\")\n",
    "\n",
    "#Column transformer\n",
    "preprocessor = ColumnTransformer(\n",
    "    transformers=[\n",
    "        (\"num\", numeric_transformer, numeric_features),\n",
    "        (\"cat\", categorical_transformer, cat_features)])\n",
    "\n",
    "set_config(display=\"diagram\")\n",
    "\n",
    "#Run Column Transformer\n",
    "X_trans = preprocessor.fit_transform(X)\n",
    "\n",
    "X_train, X_test, y_train, y_test = train_test_split(X_trans,y,test_size=0.2,shuffle=True, random_state=123)"
   ]
  },
  {
   "cell_type": "code",
   "execution_count": null,
   "id": "22753b8b-39a5-4f89-affa-daf3f9a05d35",
   "metadata": {},
   "outputs": [],
   "source": [
    "from sklearn.metrics import confusion_matrix\n",
    "import itertools\n",
    "\n",
    "def plot_cf(y_true, y_pred, class_names=None, model_name=None):\n",
    "    \"\"\"Plots a confusion matrix\"\"\"\n",
    "    cf = confusion_matrix(y_true, y_pred)\n",
    "    plt.imshow(cf, cmap=plt.cm.Greens)\n",
    "    plt.grid(b=None)\n",
    "    if model_name:\n",
    "        plt.title(\"Confusion Matrix: {}\".format(model_name))\n",
    "    else:\n",
    "        plt.title(\"Confusion Matrix\")\n",
    "    plt.ylabel('True Label')\n",
    "    plt.xlabel('Predicted Label')\n",
    "    \n",
    "    class_names = set(y_true)\n",
    "    tick_marks = np.arange(len(class_names))\n",
    "    if class_names:\n",
    "        plt.xticks(tick_marks, class_names)\n",
    "        plt.yticks(tick_marks, class_names)\n",
    "    \n",
    "    thresh = cf.max() / 2.\n",
    "    \n",
    "    for i, j in itertools.product(range(cf.shape[0]), range(cf.shape[1])):\n",
    "        plt.text(j, i, cf[i, j], horizontalalignment='center', color='white' if cf[i, j] > thresh else 'black')\n",
    "\n",
    "    plt.colorbar()"
   ]
  },
  {
   "cell_type": "code",
   "execution_count": null,
   "id": "2a55e244-2f72-4b86-bf99-1a69e0bd8324",
   "metadata": {},
   "outputs": [],
   "source": [
    "from sklearn.metrics import accuracy_score, auc, classification_report\n",
    "from sklearn.ensemble import RandomForestClassifier\n",
    "\n",
    "rnd_clf = RandomForestClassifier(n_estimators=10, random_state=42)\n",
    "\n",
    "rnd_clf.fit(X_train, y_train)\n",
    "y_pred = rnd_clf.predict(X_test)\n",
    "print(rnd_clf.__class__.__name__, accuracy_score(y_test, y_pred))\n",
    "#print(rnd_clf.__class__.__name__, auc(y_test, y_pred))\n",
    "print(rnd_clf.__class__.__name__, classification_report(y_test, y_pred))\n",
    "\n",
    "plot_cf(y_test, y_pred)"
   ]
  },
  {
   "cell_type": "raw",
   "id": "833ac51a-600c-480c-881c-15e041b9e0c9",
   "metadata": {},
   "source": [
    "# Too slow, I'll try to adjust it\n",
    "\n",
    "from sklearn.model_selection import GridSearchCV\n",
    "import time\n",
    "rf_start2 = time.time()\n",
    "\n",
    "rf2 = RandomForestClassifier(min_samples_split=0.001, verbose=2)\n",
    "\n",
    "params_rf2 = [ \n",
    "  {'n_estimators': [200, 400],\n",
    "   'max_depth': [20, 35]\n",
    "  }\n",
    "]\n",
    "\n",
    "grid_rf2 = GridSearchCV(estimator=rf2, param_grid=params_rf2, cv=5)\n",
    "\n",
    "grid_rf2.fit(X_train, y_train)\n",
    "\n",
    "rf_end2 = time.time()\n",
    "\n",
    "rf_best_score2 = grid_rf2.best_score_\n",
    "rf_best_params2 = grid_rf2.best_params_\n",
    "\n",
    "print(f\"Time taken to run: {round((rf_end2 - rf_start2)/60,1)} minutes\")\n",
    "print(\"Best accuracy:\", round(rf_best_score2,2))\n",
    "print(\"Best parameters:\", rf_best_params2)\n",
    "\n",
    "#Best Random Forest\n",
    "\n",
    "best_rf = RandomForestClassifier(max_depth=35, min_samples_split=0.001, n_estimators=400)\n",
    "\n",
    "best_rf.fit(X_train, y_train)\n",
    "\n",
    "rf_y_hat_train2 = best_rf.predict(X_train)\n",
    "rf_y_hat_test2 = best_rf.predict(X_test)\n",
    "\n",
    "print(\"Random Forest score for training set:\", round(best_rf.score(X_train, y_train),5))\n",
    "print(\"Random Forest score for test set:\", round(best_rf.score(X_test, y_test),5))\n",
    "print(\"\\nClassification report:\")\n",
    "print(classification_report(y_test, rf_y_hat_test2))\n",
    "plot_cf(y_test, rf_y_hat_test2)\n",
    "\n",
    "#Feature Importance"
   ]
  }
 ],
 "metadata": {
  "kernelspec": {
   "display_name": "Python 3 (ipykernel)",
   "language": "python",
   "name": "python3"
  },
  "language_info": {
   "codemirror_mode": {
    "name": "ipython",
    "version": 3
   },
   "file_extension": ".py",
   "mimetype": "text/x-python",
   "name": "python",
   "nbconvert_exporter": "python",
   "pygments_lexer": "ipython3",
   "version": "3.9.12"
  }
 },
 "nbformat": 4,
 "nbformat_minor": 5
}
